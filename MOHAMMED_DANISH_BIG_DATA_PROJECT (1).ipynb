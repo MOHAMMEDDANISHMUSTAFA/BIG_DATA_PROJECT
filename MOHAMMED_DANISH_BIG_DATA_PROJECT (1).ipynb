{
 "cells": [
  {
   "cell_type": "markdown",
   "metadata": {
    "application/vnd.databricks.v1+cell": {
     "cellMetadata": {},
     "inputWidgets": {},
     "nuid": "70f88d71-2573-47ef-a088-2f0b7942db34",
     "showTitle": false,
     "title": ""
    }
   },
   "source": [
    "# Distributed Big Data System Project:\n",
    "\n",
    "# Dataset: Consumer-Complaint-Database\n",
    "\n",
    "DataSet: The dataset contains different information of complaints that customers have made about a multiple products and services in the financial sector, such us Credit Reports, Student Loans, Money Transfer, etc. * Target Variable: \"Consumer disputed?\" * link: https://www.kaggle.com/selener/consumer-complaint-database.\n",
    "\n",
    "\n",
    "*consumer_disputed_string(Whether the consumer disputed the company's response).This is the target variable."
   ]
  },
  {
   "cell_type": "markdown",
   "metadata": {},
   "source": [
    "# Package import:"
   ]
  },
  {
   "cell_type": "code",
   "execution_count": 0,
   "metadata": {
    "application/vnd.databricks.v1+cell": {
     "cellMetadata": {},
     "inputWidgets": {},
     "nuid": "e69e8fe5-c92e-4d00-84e2-900d6f5ee68e",
     "showTitle": false,
     "title": ""
    }
   },
   "outputs": [],
   "source": [
    "#Pyspark related\n",
    "\n",
    "import os\n",
    "import time\n",
    "from pyspark import SparkContext\n",
    "from pyspark.sql import SQLContext, Row\n",
    "from pyspark.sql.functions import col, unix_timestamp, to_date, when \n",
    "from pyspark.sql import functions as F\n",
    "from pyspark import SparkConf, SQLContext\n",
    "import pyspark\n",
    "from pyspark.sql import SparkSession, functions as F \n",
    "from pyspark.sql.types import *\n",
    "\n",
    "sc =SparkContext()\n",
    "sqlc = SQLContext(sc)"
   ]
  },
  {
   "cell_type": "code",
   "execution_count": 0,
   "metadata": {
    "application/vnd.databricks.v1+cell": {
     "cellMetadata": {},
     "inputWidgets": {},
     "nuid": "4af416b7-83bd-4c78-9d97-cc9613ddad37",
     "showTitle": false,
     "title": ""
    }
   },
   "outputs": [
    {
     "data": {
      "application/vnd.databricks.v1+bamboolib_hint": "{\"pd.DataFrames\": [], \"version\": \"0.0.1\"}",
      "text/plain": []
     },
     "metadata": {
      "application/vnd.databricks.v1+output": {
       "addedWidgets": {},
       "arguments": {},
       "data": {
        "application/vnd.databricks.v1+bamboolib_hint": "{\"pd.DataFrames\": [], \"version\": \"0.0.1\"}",
        "text/plain": ""
       },
       "datasetInfos": [],
       "metadata": {
        "kernelSessionId": "d93ac6dc-31c2ff46aa557d7eced0321e"
       },
       "removedWidgets": [],
       "type": "mimeBundle"
      }
     },
     "output_type": "display_data"
    }
   ],
   "source": [
    "#Plotting related\n",
    "from IPython.display import display\n",
    "import pandas as pd\n",
    "import numpy as np\n",
    "import matplotlib\n",
    "import seaborn as sns\n",
    "import matplotlib.pyplot as plt\n",
    "from functools import reduce\n",
    "%matplotlib inline \n",
    "from pyspark.sql.functions import datediff, to_date, lit\n",
    "# random state\n",
    "SEED=100"
   ]
  },
  {
   "cell_type": "code",
   "execution_count": 0,
   "metadata": {
    "application/vnd.databricks.v1+cell": {
     "cellMetadata": {},
     "inputWidgets": {},
     "nuid": "658d9c89-0d01-4d78-ad53-4f39f4831a3a",
     "showTitle": false,
     "title": ""
    }
   },
   "outputs": [],
   "source": [
    "# Jupyter notebook settings for pandas\n",
    "pd.set_option('display.max_columns', 200)\n",
    "pd.set_option('display.max_rows', 100) # None for all the rows\n",
    "pd.set_option('display.max_colwidth', 50)"
   ]
  },
  {
   "cell_type": "code",
   "execution_count": 0,
   "metadata": {
    "application/vnd.databricks.v1+cell": {
     "cellMetadata": {},
     "inputWidgets": {},
     "nuid": "149432ee-9500-458b-8c93-0637c6c64f33",
     "showTitle": false,
     "title": ""
    }
   },
   "outputs": [
    {
     "data": {
      "text/plain": [
       "All Versions:\n",
       "[('numpy', '1.20.3'), ('pandas', '1.3.4'), ('seaborn', '0.11.2'), ('matplotlib', '3.4.3'), ('pyspark', '3.3.0')]\n",
       "/databricks/spark/python/pyspark/sql/context.py:117: FutureWarning: Deprecated in 3.0.0. Use SparkSession.builder.getOrCreate() instead.\n",
       "  warnings.warn(\n"
      ]
     },
     "metadata": {
      "application/vnd.databricks.v1+output": {
       "addedWidgets": {},
       "arguments": {},
       "data": "All Versions:\n[('numpy', '1.20.3'), ('pandas', '1.3.4'), ('seaborn', '0.11.2'), ('matplotlib', '3.4.3'), ('pyspark', '3.3.0')]\n/databricks/spark/python/pyspark/sql/context.py:117: FutureWarning: Deprecated in 3.0.0. Use SparkSession.builder.getOrCreate() instead.\n  warnings.warn(\n",
       "datasetInfos": [],
       "metadata": {},
       "removedWidgets": [],
       "type": "ansi"
      }
     },
     "output_type": "display_data"
    }
   ],
   "source": [
    "#Creating the spark session under the name of ConsumerComplain\n",
    "spark = pyspark.sql.SparkSession.builder.appName('ConsumerComplain').getOrCreate()\n",
    "sc = spark.sparkContext\n",
    "sqc = SQLContext(sc) # spark_df = sqlContext.createDataFrame(pandas_df)\n",
    "sc.setLogLevel(\"INFO\")\n",
    "\n",
    "print(\"All Versions:\")\n",
    "print([(x.__name__,x.__version__) for x in [np, pd,sns,matplotlib,pyspark]])"
   ]
  },
  {
   "cell_type": "markdown",
   "metadata": {},
   "source": [
    "# Loading Dataset"
   ]
  },
  {
   "cell_type": "code",
   "execution_count": 0,
   "metadata": {
    "application/vnd.databricks.v1+cell": {
     "cellMetadata": {},
     "inputWidgets": {},
     "nuid": "15795554-21b7-4bc0-9d29-b863523c6291",
     "showTitle": false,
     "title": ""
    }
   },
   "outputs": [
    {
     "data": {
      "text/plain": [
       "nrows =  1720532 ncols =  18\n"
      ]
     },
     "metadata": {
      "application/vnd.databricks.v1+output": {
       "addedWidgets": {},
       "arguments": {},
       "data": "nrows =  1720532 ncols =  18\n",
       "datasetInfos": [],
       "metadata": {},
       "removedWidgets": [],
       "type": "ansi"
      }
     },
     "output_type": "display_data"
    },
    {
     "data": {
      "text/html": [
       "<div>\n",
       "<style scoped>\n",
       "    .dataframe tbody tr th:only-of-type {\n",
       "        vertical-align: middle;\n",
       "    }\n",
       "\n",
       "    .dataframe tbody tr th {\n",
       "        vertical-align: top;\n",
       "    }\n",
       "\n",
       "    .dataframe thead th {\n",
       "        text-align: right;\n",
       "    }\n",
       "</style>\n",
       "<table border=\"1\" class=\"dataframe\">\n",
       "  <thead>\n",
       "    <tr style=\"text-align: right;\">\n",
       "      <th></th>\n",
       "      <th>Date received</th>\n",
       "      <th>Product</th>\n",
       "      <th>Sub-product</th>\n",
       "      <th>Issue</th>\n",
       "      <th>Sub-issue</th>\n",
       "      <th>Consumer complaint narrative</th>\n",
       "      <th>Company public response</th>\n",
       "      <th>Company</th>\n",
       "      <th>State</th>\n",
       "      <th>ZIP code</th>\n",
       "      <th>Tags</th>\n",
       "      <th>Consumer consent provided?</th>\n",
       "      <th>Submitted via</th>\n",
       "      <th>Date sent to company</th>\n",
       "      <th>Company response to consumer</th>\n",
       "      <th>Timely response?</th>\n",
       "      <th>Consumer disputed?</th>\n",
       "      <th>Complaint ID</th>\n",
       "    </tr>\n",
       "  </thead>\n",
       "  <tbody>\n",
       "    <tr>\n",
       "      <th>0</th>\n",
       "      <td>05/10/2019</td>\n",
       "      <td>Checking or savings account</td>\n",
       "      <td>Checking account</td>\n",
       "      <td>Managing an account</td>\n",
       "      <td>Problem using a debit or ATM card</td>\n",
       "      <td>None</td>\n",
       "      <td>None</td>\n",
       "      <td>NAVY FEDERAL CREDIT UNION</td>\n",
       "      <td>FL</td>\n",
       "      <td>328XX</td>\n",
       "      <td>Older American</td>\n",
       "      <td>None</td>\n",
       "      <td>Web</td>\n",
       "      <td>05/10/2019</td>\n",
       "      <td>In progress</td>\n",
       "      <td>Yes</td>\n",
       "      <td>N/A</td>\n",
       "      <td>3238275</td>\n",
       "    </tr>\n",
       "    <tr>\n",
       "      <th>1</th>\n",
       "      <td>05/10/2019</td>\n",
       "      <td>Checking or savings account</td>\n",
       "      <td>Other banking product or service</td>\n",
       "      <td>Managing an account</td>\n",
       "      <td>Deposits and withdrawals</td>\n",
       "      <td>None</td>\n",
       "      <td>None</td>\n",
       "      <td>BOEING EMPLOYEES CREDIT UNION</td>\n",
       "      <td>WA</td>\n",
       "      <td>98204</td>\n",
       "      <td>None</td>\n",
       "      <td>N/A</td>\n",
       "      <td>Referral</td>\n",
       "      <td>05/10/2019</td>\n",
       "      <td>Closed with explanation</td>\n",
       "      <td>Yes</td>\n",
       "      <td>N/A</td>\n",
       "      <td>3238228</td>\n",
       "    </tr>\n",
       "    <tr>\n",
       "      <th>2</th>\n",
       "      <td>05/10/2019</td>\n",
       "      <td>Debt collection</td>\n",
       "      <td>Payday loan debt</td>\n",
       "      <td>Communication tactics</td>\n",
       "      <td>Frequent or repeated calls</td>\n",
       "      <td>None</td>\n",
       "      <td>None</td>\n",
       "      <td>CURO Intermediate Holdings</td>\n",
       "      <td>TX</td>\n",
       "      <td>751XX</td>\n",
       "      <td>None</td>\n",
       "      <td>None</td>\n",
       "      <td>Web</td>\n",
       "      <td>05/10/2019</td>\n",
       "      <td>Closed with explanation</td>\n",
       "      <td>Yes</td>\n",
       "      <td>N/A</td>\n",
       "      <td>3237964</td>\n",
       "    </tr>\n",
       "    <tr>\n",
       "      <th>3</th>\n",
       "      <td>05/10/2019</td>\n",
       "      <td>Credit reporting, credit repair services, or o...</td>\n",
       "      <td>Credit reporting</td>\n",
       "      <td>Incorrect information on your report</td>\n",
       "      <td>Old information reappears or never goes away</td>\n",
       "      <td>None</td>\n",
       "      <td>None</td>\n",
       "      <td>Ad Astra Recovery Services Inc</td>\n",
       "      <td>LA</td>\n",
       "      <td>708XX</td>\n",
       "      <td>None</td>\n",
       "      <td>None</td>\n",
       "      <td>Web</td>\n",
       "      <td>05/10/2019</td>\n",
       "      <td>Closed with explanation</td>\n",
       "      <td>Yes</td>\n",
       "      <td>N/A</td>\n",
       "      <td>3238479</td>\n",
       "    </tr>\n",
       "    <tr>\n",
       "      <th>4</th>\n",
       "      <td>05/10/2019</td>\n",
       "      <td>Checking or savings account</td>\n",
       "      <td>Checking account</td>\n",
       "      <td>Managing an account</td>\n",
       "      <td>Banking errors</td>\n",
       "      <td>None</td>\n",
       "      <td>None</td>\n",
       "      <td>ALLY FINANCIAL INC.</td>\n",
       "      <td>AZ</td>\n",
       "      <td>85205</td>\n",
       "      <td>None</td>\n",
       "      <td>N/A</td>\n",
       "      <td>Postal mail</td>\n",
       "      <td>05/10/2019</td>\n",
       "      <td>In progress</td>\n",
       "      <td>Yes</td>\n",
       "      <td>N/A</td>\n",
       "      <td>3238460</td>\n",
       "    </tr>\n",
       "  </tbody>\n",
       "</table>\n",
       "</div>"
      ]
     },
     "metadata": {
      "application/vnd.databricks.v1+output": {
       "addedWidgets": {},
       "arguments": {},
       "data": "<div>\n<style scoped>\n    .dataframe tbody tr th:only-of-type {\n        vertical-align: middle;\n    }\n\n    .dataframe tbody tr th {\n        vertical-align: top;\n    }\n\n    .dataframe thead th {\n        text-align: right;\n    }\n</style>\n<table border=\"1\" class=\"dataframe\">\n  <thead>\n    <tr style=\"text-align: right;\">\n      <th></th>\n      <th>Date received</th>\n      <th>Product</th>\n      <th>Sub-product</th>\n      <th>Issue</th>\n      <th>Sub-issue</th>\n      <th>Consumer complaint narrative</th>\n      <th>Company public response</th>\n      <th>Company</th>\n      <th>State</th>\n      <th>ZIP code</th>\n      <th>Tags</th>\n      <th>Consumer consent provided?</th>\n      <th>Submitted via</th>\n      <th>Date sent to company</th>\n      <th>Company response to consumer</th>\n      <th>Timely response?</th>\n      <th>Consumer disputed?</th>\n      <th>Complaint ID</th>\n    </tr>\n  </thead>\n  <tbody>\n    <tr>\n      <th>0</th>\n      <td>05/10/2019</td>\n      <td>Checking or savings account</td>\n      <td>Checking account</td>\n      <td>Managing an account</td>\n      <td>Problem using a debit or ATM card</td>\n      <td>None</td>\n      <td>None</td>\n      <td>NAVY FEDERAL CREDIT UNION</td>\n      <td>FL</td>\n      <td>328XX</td>\n      <td>Older American</td>\n      <td>None</td>\n      <td>Web</td>\n      <td>05/10/2019</td>\n      <td>In progress</td>\n      <td>Yes</td>\n      <td>N/A</td>\n      <td>3238275</td>\n    </tr>\n    <tr>\n      <th>1</th>\n      <td>05/10/2019</td>\n      <td>Checking or savings account</td>\n      <td>Other banking product or service</td>\n      <td>Managing an account</td>\n      <td>Deposits and withdrawals</td>\n      <td>None</td>\n      <td>None</td>\n      <td>BOEING EMPLOYEES CREDIT UNION</td>\n      <td>WA</td>\n      <td>98204</td>\n      <td>None</td>\n      <td>N/A</td>\n      <td>Referral</td>\n      <td>05/10/2019</td>\n      <td>Closed with explanation</td>\n      <td>Yes</td>\n      <td>N/A</td>\n      <td>3238228</td>\n    </tr>\n    <tr>\n      <th>2</th>\n      <td>05/10/2019</td>\n      <td>Debt collection</td>\n      <td>Payday loan debt</td>\n      <td>Communication tactics</td>\n      <td>Frequent or repeated calls</td>\n      <td>None</td>\n      <td>None</td>\n      <td>CURO Intermediate Holdings</td>\n      <td>TX</td>\n      <td>751XX</td>\n      <td>None</td>\n      <td>None</td>\n      <td>Web</td>\n      <td>05/10/2019</td>\n      <td>Closed with explanation</td>\n      <td>Yes</td>\n      <td>N/A</td>\n      <td>3237964</td>\n    </tr>\n    <tr>\n      <th>3</th>\n      <td>05/10/2019</td>\n      <td>Credit reporting, credit repair services, or o...</td>\n      <td>Credit reporting</td>\n      <td>Incorrect information on your report</td>\n      <td>Old information reappears or never goes away</td>\n      <td>None</td>\n      <td>None</td>\n      <td>Ad Astra Recovery Services Inc</td>\n      <td>LA</td>\n      <td>708XX</td>\n      <td>None</td>\n      <td>None</td>\n      <td>Web</td>\n      <td>05/10/2019</td>\n      <td>Closed with explanation</td>\n      <td>Yes</td>\n      <td>N/A</td>\n      <td>3238479</td>\n    </tr>\n    <tr>\n      <th>4</th>\n      <td>05/10/2019</td>\n      <td>Checking or savings account</td>\n      <td>Checking account</td>\n      <td>Managing an account</td>\n      <td>Banking errors</td>\n      <td>None</td>\n      <td>None</td>\n      <td>ALLY FINANCIAL INC.</td>\n      <td>AZ</td>\n      <td>85205</td>\n      <td>None</td>\n      <td>N/A</td>\n      <td>Postal mail</td>\n      <td>05/10/2019</td>\n      <td>In progress</td>\n      <td>Yes</td>\n      <td>N/A</td>\n      <td>3238460</td>\n    </tr>\n  </tbody>\n</table>\n</div>",
       "datasetInfos": [],
       "metadata": {},
       "removedWidgets": [],
       "textData": null,
       "type": "htmlSandbox"
      }
     },
     "output_type": "display_data"
    }
   ],
   "source": [
    "data = (spark.read.format(\"csv\").options(header=True, inferSchema=True).load(\"/FileStore/tables/data.csv\"))\n",
    "\n",
    "print('nrows = ', data.count(), 'ncols = ', len(data.columns))\n",
    "\n",
    "data.limit(5).toPandas()"
   ]
  },
  {
   "cell_type": "code",
   "execution_count": 0,
   "metadata": {
    "application/vnd.databricks.v1+cell": {
     "cellMetadata": {},
     "inputWidgets": {},
     "nuid": "f20494ab-feb9-4d86-a5ab-76e7ad5ea1d3",
     "showTitle": false,
     "title": ""
    }
   },
   "outputs": [],
   "source": [
    "Complt_df=data"
   ]
  },
  {
   "cell_type": "markdown",
   "metadata": {},
   "source": [
    "# Data Pre-Processing"
   ]
  },
  {
   "cell_type": "code",
   "execution_count": 0,
   "metadata": {
    "application/vnd.databricks.v1+cell": {
     "cellMetadata": {},
     "inputWidgets": {},
     "nuid": "a4db6e16-59fa-46cd-91c6-a32461543554",
     "showTitle": false,
     "title": ""
    }
   },
   "outputs": [
    {
     "data": {
      "text/plain": [
       "root\n",
       " |-- Date_Rxd: string (nullable = true)\n",
       " |-- Product: string (nullable = true)\n",
       " |-- Sub_Product: string (nullable = true)\n",
       " |-- Issue: string (nullable = true)\n",
       " |-- Sub_Issue: string (nullable = true)\n",
       " |-- Consumer_complaint_narrative: string (nullable = true)\n",
       " |-- Company_Pub_Resp: string (nullable = true)\n",
       " |-- Company: string (nullable = true)\n",
       " |-- State: string (nullable = true)\n",
       " |-- Zip_Code: string (nullable = true)\n",
       " |-- Tags: string (nullable = true)\n",
       " |-- Cnsmr_Consent: string (nullable = true)\n",
       " |-- Submit_Via: string (nullable = true)\n",
       " |-- Date_Sent: string (nullable = true)\n",
       " |-- Comp_Resp_Cnsmr: string (nullable = true)\n",
       " |-- Timely_Resp: string (nullable = true)\n",
       " |-- Cnsmr_Disp: string (nullable = true)\n",
       " |-- ComplaintID: string (nullable = true)\n",
       "\n",
       "+----------+--------------------+--------------------+-------------------+--------------------+----------------------------+----------------+--------------------+-----+--------+--------------+-------------+----------+----------+--------------------+-----------+----------+-----------+\n",
       "|  Date_Rxd|             Product|         Sub_Product|              Issue|           Sub_Issue|Consumer_complaint_narrative|Company_Pub_Resp|             Company|State|Zip_Code|          Tags|Cnsmr_Consent|Submit_Via| Date_Sent|     Comp_Resp_Cnsmr|Timely_Resp|Cnsmr_Disp|ComplaintID|\n",
       "+----------+--------------------+--------------------+-------------------+--------------------+----------------------------+----------------+--------------------+-----+--------+--------------+-------------+----------+----------+--------------------+-----------+----------+-----------+\n",
       "|05/10/2019|Checking or savin...|    Checking account|Managing an account|Problem using a d...|                        null|            null|NAVY FEDERAL CRED...|   FL|   328XX|Older American|         null|       Web|05/10/2019|         In progress|        Yes|       N/A|    3238275|\n",
       "|05/10/2019|Checking or savin...|Other banking pro...|Managing an account|Deposits and with...|                        null|            null|BOEING EMPLOYEES ...|   WA|   98204|          null|          N/A|  Referral|05/10/2019|Closed with expla...|        Yes|       N/A|    3238228|\n",
       "+----------+--------------------+--------------------+-------------------+--------------------+----------------------------+----------------+--------------------+-----+--------+--------------+-------------+----------+----------+--------------------+-----------+----------+-----------+\n",
       "only showing top 2 rows\n",
       "\n"
      ]
     },
     "metadata": {
      "application/vnd.databricks.v1+output": {
       "addedWidgets": {},
       "arguments": {},
       "data": "root\n |-- Date_Rxd: string (nullable = true)\n |-- Product: string (nullable = true)\n |-- Sub_Product: string (nullable = true)\n |-- Issue: string (nullable = true)\n |-- Sub_Issue: string (nullable = true)\n |-- Consumer_complaint_narrative: string (nullable = true)\n |-- Company_Pub_Resp: string (nullable = true)\n |-- Company: string (nullable = true)\n |-- State: string (nullable = true)\n |-- Zip_Code: string (nullable = true)\n |-- Tags: string (nullable = true)\n |-- Cnsmr_Consent: string (nullable = true)\n |-- Submit_Via: string (nullable = true)\n |-- Date_Sent: string (nullable = true)\n |-- Comp_Resp_Cnsmr: string (nullable = true)\n |-- Timely_Resp: string (nullable = true)\n |-- Cnsmr_Disp: string (nullable = true)\n |-- ComplaintID: string (nullable = true)\n\n+----------+--------------------+--------------------+-------------------+--------------------+----------------------------+----------------+--------------------+-----+--------+--------------+-------------+----------+----------+--------------------+-----------+----------+-----------+\n|  Date_Rxd|             Product|         Sub_Product|              Issue|           Sub_Issue|Consumer_complaint_narrative|Company_Pub_Resp|             Company|State|Zip_Code|          Tags|Cnsmr_Consent|Submit_Via| Date_Sent|     Comp_Resp_Cnsmr|Timely_Resp|Cnsmr_Disp|ComplaintID|\n+----------+--------------------+--------------------+-------------------+--------------------+----------------------------+----------------+--------------------+-----+--------+--------------+-------------+----------+----------+--------------------+-----------+----------+-----------+\n|05/10/2019|Checking or savin...|    Checking account|Managing an account|Problem using a d...|                        null|            null|NAVY FEDERAL CRED...|   FL|   328XX|Older American|         null|       Web|05/10/2019|         In progress|        Yes|       N/A|    3238275|\n|05/10/2019|Checking or savin...|Other banking pro...|Managing an account|Deposits and with...|                        null|            null|BOEING EMPLOYEES ...|   WA|   98204|          null|          N/A|  Referral|05/10/2019|Closed with expla...|        Yes|       N/A|    3238228|\n+----------+--------------------+--------------------+-------------------+--------------------+----------------------------+----------------+--------------------+-----+--------+--------------+-------------+----------+----------+--------------------+-----------+----------+-----------+\nonly showing top 2 rows\n\n",
       "datasetInfos": [],
       "metadata": {},
       "removedWidgets": [],
       "type": "ansi"
      }
     },
     "output_type": "display_data"
    }
   ],
   "source": [
    "#Change the coloumn names and create a new Dataframe\n",
    "\n",
    "oldColumns = Complt_df.schema.names\n",
    "newColumns = [\"Date_Rxd\", \"Product\",\"Sub_Product\", \"Issue\",\"Sub_Issue\",\"Consumer_complaint_narrative\",\"Company_Pub_Resp\", \"Company\", \"State\",           \\\n",
    "              \"Zip_Code\",\"Tags\", \"Cnsmr_Consent\", \"Submit_Via\", \"Date_Sent\", \"Comp_Resp_Cnsmr\", \"Timely_Resp\",\"Cnsmr_Disp\", \\\n",
    "              \"ComplaintID\"]\n",
    "\n",
    "Complaint_df = reduce(lambda Complt_df, idx: Complt_df.withColumnRenamed(oldColumns[idx], newColumns[idx]),         \\\n",
    "                      range(len(oldColumns)), Complt_df)\n",
    "\n",
    "\n",
    "#Bring the date to a uniform formatted string\n",
    "\n",
    "Complaint_df = Complaint_df.withColumn(\"Date_Rxd\",F.translate(F.col(\"Date_Rxd\"), \"-\", \"/\"))\n",
    "Complaint_df.printSchema()\n",
    "Complaint_df.show(2)"
   ]
  },
  {
   "cell_type": "code",
   "execution_count": 0,
   "metadata": {
    "application/vnd.databricks.v1+cell": {
     "cellMetadata": {},
     "inputWidgets": {},
     "nuid": "c7bc97f7-bee6-4502-858a-3cb649ab3dfc",
     "showTitle": false,
     "title": ""
    }
   },
   "outputs": [],
   "source": [
    "#To extract the only date format out of the column. Then i realized it is not impacting on vary minimal vlaues.\n",
    "#Complaint_df = Complaint_df.withColumn(\"Date_Rxd\", F.regexp_extract(Complaint_df.Date_Rxd, r\"(\\b(\\d{2})+/\\b(\\d{2})+/\\b(\\d{4}))\", 0))          \n",
    "\n",
    "# Conver the string filed to datafield \n",
    "Complaint_df = Complaint_df.select('*', to_date(Complaint_df['Date_Rxd'], \n",
    "                          'MM/dd/yyyy').alias('Date_Rxd_dt'))\n",
    "\n",
    "Complaint_df = Complaint_df.select('*', \n",
    "                    to_date(Complaint_df['Date_Sent'], \n",
    "                    'MM/dd/yyyy').alias('Date_Sent_dt'))\n",
    "\n",
    "# add time difference between receipt and sent to company\n",
    "Complaint_df = Complaint_df.withColumn('transit_time',\n",
    "                       datediff(Complaint_df['Date_Sent_dt'],\n",
    "                       Complaint_df['Date_Rxd_dt']))"
   ]
  },
  {
   "cell_type": "code",
   "execution_count": 0,
   "metadata": {
    "application/vnd.databricks.v1+cell": {
     "cellMetadata": {},
     "inputWidgets": {},
     "nuid": "466fb63c-4dbb-4ac1-86db-3768b2a18831",
     "showTitle": false,
     "title": ""
    }
   },
   "outputs": [],
   "source": [
    "#Delete the fields as time difference considered into dataset.\n",
    "Complaint_df=Complaint_df.drop('Date_Sent_dt')\n",
    "Complaint_df=Complaint_df.drop('Date_Rxd_dt')\n",
    "Complaint_df=Complaint_df.drop('Date_Rxd')\n",
    "Complaint_df=Complaint_df.drop('Date_Sent')"
   ]
  },
  {
   "cell_type": "code",
   "execution_count": 0,
   "metadata": {
    "application/vnd.databricks.v1+cell": {
     "cellMetadata": {},
     "inputWidgets": {},
     "nuid": "c135caaf-c6d1-4743-9593-f66528f50ae8",
     "showTitle": false,
     "title": ""
    }
   },
   "outputs": [
    {
     "data": {
      "text/plain": [
       "+--------------------+------+\n",
       "|            Zip_Code| count|\n",
       "+--------------------+------+\n",
       "|                null|514477|\n",
       "|Closed with expla...| 45739|\n",
       "|                 Web| 13716|\n",
       "|    Consent provided|  7915|\n",
       "|Closed with non-m...|  6794|\n",
       "+--------------------+------+\n",
       "only showing top 5 rows\n",
       "\n",
       "None\n",
       "+----------------------------+-------+\n",
       "|Consumer_complaint_narrative|  count|\n",
       "+----------------------------+-------+\n",
       "|                        null|1234573|\n",
       "|               Servicemember|   5663|\n",
       "|              Older American|   4415|\n",
       "|                          CA|   2091|\n",
       "|        Company has respo...|   1601|\n",
       "+----------------------------+-------+\n",
       "only showing top 5 rows\n",
       "\n",
       "None\n",
       "+--------------------+-------+\n",
       "|    Company_Pub_Resp|  count|\n",
       "+--------------------+-------+\n",
       "|                null|1187731|\n",
       "|Company has respo...| 264377|\n",
       "|    Consent provided|  56948|\n",
       "|Company believes ...|  51298|\n",
       "|Company chooses n...|  44641|\n",
       "+--------------------+-------+\n",
       "only showing top 5 rows\n",
       "\n",
       "None\n",
       "+--------------------+-------+\n",
       "|                Tags|  count|\n",
       "+--------------------+-------+\n",
       "|                null|1422710|\n",
       "|       Servicemember|  70306|\n",
       "|      Older American|  66233|\n",
       "|                 Yes|  55458|\n",
       "|Closed with expla...|  21134|\n",
       "+--------------------+-------+\n",
       "only showing top 5 rows\n",
       "\n",
       "None\n"
      ]
     },
     "metadata": {
      "application/vnd.databricks.v1+output": {
       "addedWidgets": {},
       "arguments": {},
       "data": "+--------------------+------+\n|            Zip_Code| count|\n+--------------------+------+\n|                null|514477|\n|Closed with expla...| 45739|\n|                 Web| 13716|\n|    Consent provided|  7915|\n|Closed with non-m...|  6794|\n+--------------------+------+\nonly showing top 5 rows\n\nNone\n+----------------------------+-------+\n|Consumer_complaint_narrative|  count|\n+----------------------------+-------+\n|                        null|1234573|\n|               Servicemember|   5663|\n|              Older American|   4415|\n|                          CA|   2091|\n|        Company has respo...|   1601|\n+----------------------------+-------+\nonly showing top 5 rows\n\nNone\n+--------------------+-------+\n|    Company_Pub_Resp|  count|\n+--------------------+-------+\n|                null|1187731|\n|Company has respo...| 264377|\n|    Consent provided|  56948|\n|Company believes ...|  51298|\n|Company chooses n...|  44641|\n+--------------------+-------+\nonly showing top 5 rows\n\nNone\n+--------------------+-------+\n|                Tags|  count|\n+--------------------+-------+\n|                null|1422710|\n|       Servicemember|  70306|\n|      Older American|  66233|\n|                 Yes|  55458|\n|Closed with expla...|  21134|\n+--------------------+-------+\nonly showing top 5 rows\n\nNone\n",
       "datasetInfos": [],
       "metadata": {},
       "removedWidgets": [],
       "type": "ansi"
      }
     },
     "output_type": "display_data"
    }
   ],
   "source": [
    "#Print top 5 unique values and check how much percentage of null values in the particular column.\n",
    "print(Complaint_df.groupBy('Zip_Code').count().sort('count', ascending=False).show(5))\n",
    "print(Complaint_df.groupBy('Consumer_complaint_narrative').count().sort('count', ascending=False).show(5))\n",
    "print(Complaint_df.groupBy('Company_Pub_Resp').count().sort('count', ascending=False).show(5))\n",
    "print(Complaint_df.groupBy('Tags').count().sort('count', ascending=False).show(5))"
   ]
  },
  {
   "cell_type": "code",
   "execution_count": 0,
   "metadata": {
    "application/vnd.databricks.v1+cell": {
     "cellMetadata": {},
     "inputWidgets": {},
     "nuid": "c5fddaa7-7fe5-4c77-9d13-8112dccb4c48",
     "showTitle": false,
     "title": ""
    }
   },
   "outputs": [],
   "source": [
    "Complaint_df=Complaint_df.drop('Zip_Code')"
   ]
  },
  {
   "cell_type": "code",
   "execution_count": 0,
   "metadata": {
    "application/vnd.databricks.v1+cell": {
     "cellMetadata": {},
     "inputWidgets": {},
     "nuid": "b0d611f0-c643-48eb-ba53-851be651d36b",
     "showTitle": false,
     "title": ""
    }
   },
   "outputs": [],
   "source": [
    "Complaint_df=Complaint_df.drop('Consumer_complaint_narrative')\n",
    "Complaint_df=Complaint_df.drop('Company_Pub_Resp')\n",
    "Complaint_df=Complaint_df.drop('Tags')"
   ]
  },
  {
   "cell_type": "code",
   "execution_count": 0,
   "metadata": {
    "application/vnd.databricks.v1+cell": {
     "cellMetadata": {},
     "inputWidgets": {},
     "nuid": "92744421-070a-463b-90bf-052f4b479ac1",
     "showTitle": false,
     "title": ""
    }
   },
   "outputs": [
    {
     "data": {
      "text/plain": [
       "+--------------------+------+\n",
       "|          Cnsmr_Disp| count|\n",
       "+--------------------+------+\n",
       "|                  No|575847|\n",
       "|                null|543865|\n",
       "|                 N/A|429482|\n",
       "|                 Yes|140079|\n",
       "|Closed with expla...|  4346|\n",
       "|                 Web|  2983|\n",
       "|    Consent provided|  2510|\n",
       "|Closed with non-m...|   568|\n",
       "|Closed with monet...|   411|\n",
       "|Company has respo...|   242|\n",
       "+--------------------+------+\n",
       "only showing top 10 rows\n",
       "\n",
       "None\n"
      ]
     },
     "metadata": {
      "application/vnd.databricks.v1+output": {
       "addedWidgets": {},
       "arguments": {},
       "data": "+--------------------+------+\n|          Cnsmr_Disp| count|\n+--------------------+------+\n|                  No|575847|\n|                null|543865|\n|                 N/A|429482|\n|                 Yes|140079|\n|Closed with expla...|  4346|\n|                 Web|  2983|\n|    Consent provided|  2510|\n|Closed with non-m...|   568|\n|Closed with monet...|   411|\n|Company has respo...|   242|\n+--------------------+------+\nonly showing top 10 rows\n\nNone\n",
       "datasetInfos": [],
       "metadata": {},
       "removedWidgets": [],
       "type": "ansi"
      }
     },
     "output_type": "display_data"
    }
   ],
   "source": [
    "#Verfiy the target variable in the context of null values.\n",
    "print(Complaint_df.groupBy('Cnsmr_Disp').count().sort('count', ascending=False).show(10))"
   ]
  },
  {
   "cell_type": "code",
   "execution_count": 0,
   "metadata": {
    "application/vnd.databricks.v1+cell": {
     "cellMetadata": {},
     "inputWidgets": {},
     "nuid": "c7d761c5-936d-4fe4-8d98-290c42d5538f",
     "showTitle": false,
     "title": ""
    }
   },
   "outputs": [],
   "source": [
    "#Consider only yes and no values as the main idea is Bi-classification.\n",
    "Complaint_df=Complaint_df[(Complaint_df.Cnsmr_Disp=='Yes') | (Complaint_df.Cnsmr_Disp=='No')]"
   ]
  },
  {
   "cell_type": "code",
   "execution_count": 0,
   "metadata": {
    "application/vnd.databricks.v1+cell": {
     "cellMetadata": {},
     "inputWidgets": {},
     "nuid": "17610e75-9125-4619-aa58-37bb6a150b7e",
     "showTitle": false,
     "title": ""
    }
   },
   "outputs": [
    {
     "data": {
      "text/plain": [
       "+----------+------+\n",
       "|Cnsmr_Disp| count|\n",
       "+----------+------+\n",
       "|        No|575847|\n",
       "|       Yes|140079|\n",
       "+----------+------+\n",
       "\n",
       "None\n"
      ]
     },
     "metadata": {
      "application/vnd.databricks.v1+output": {
       "addedWidgets": {},
       "arguments": {},
       "data": "+----------+------+\n|Cnsmr_Disp| count|\n+----------+------+\n|        No|575847|\n|       Yes|140079|\n+----------+------+\n\nNone\n",
       "datasetInfos": [],
       "metadata": {},
       "removedWidgets": [],
       "type": "ansi"
      }
     },
     "output_type": "display_data"
    }
   ],
   "source": [
    "#Complaint_df = Complaint_df.withColumn(\"Cnsmr_Disp\", when(col(\"Cnsmr_Disp\") == \"Yes\",1).otherwise(0))\n",
    "# print unique value counts in target variable\n",
    "print(Complaint_df.groupBy('Cnsmr_Disp').count().sort('count', ascending=False).show(10))"
   ]
  },
  {
   "cell_type": "code",
   "execution_count": 0,
   "metadata": {
    "application/vnd.databricks.v1+cell": {
     "cellMetadata": {},
     "inputWidgets": {},
     "nuid": "bf94b2c0-33cc-4753-9533-fefc09338896",
     "showTitle": false,
     "title": ""
    }
   },
   "outputs": [
    {
     "data": {
      "text/plain": [
       "root\n",
       " |-- Product: string (nullable = true)\n",
       " |-- Sub_Product: string (nullable = true)\n",
       " |-- Issue: string (nullable = true)\n",
       " |-- Sub_Issue: string (nullable = true)\n",
       " |-- Company: string (nullable = true)\n",
       " |-- State: string (nullable = true)\n",
       " |-- Cnsmr_Consent: string (nullable = true)\n",
       " |-- Submit_Via: string (nullable = true)\n",
       " |-- Comp_Resp_Cnsmr: string (nullable = true)\n",
       " |-- Timely_Resp: string (nullable = true)\n",
       " |-- Cnsmr_Disp: string (nullable = true)\n",
       " |-- ComplaintID: string (nullable = true)\n",
       " |-- transit_time: integer (nullable = true)\n",
       "\n"
      ]
     },
     "metadata": {
      "application/vnd.databricks.v1+output": {
       "addedWidgets": {},
       "arguments": {},
       "data": "root\n |-- Product: string (nullable = true)\n |-- Sub_Product: string (nullable = true)\n |-- Issue: string (nullable = true)\n |-- Sub_Issue: string (nullable = true)\n |-- Company: string (nullable = true)\n |-- State: string (nullable = true)\n |-- Cnsmr_Consent: string (nullable = true)\n |-- Submit_Via: string (nullable = true)\n |-- Comp_Resp_Cnsmr: string (nullable = true)\n |-- Timely_Resp: string (nullable = true)\n |-- Cnsmr_Disp: string (nullable = true)\n |-- ComplaintID: string (nullable = true)\n |-- transit_time: integer (nullable = true)\n\n",
       "datasetInfos": [],
       "metadata": {},
       "removedWidgets": [],
       "type": "ansi"
      }
     },
     "output_type": "display_data"
    }
   ],
   "source": [
    "Complaint_df.printSchema()"
   ]
  },
  {
   "cell_type": "code",
   "execution_count": 0,
   "metadata": {
    "application/vnd.databricks.v1+cell": {
     "cellMetadata": {},
     "inputWidgets": {},
     "nuid": "629f8184-f62c-496d-ab3b-b054f2297162",
     "showTitle": false,
     "title": ""
    }
   },
   "outputs": [
    {
     "data": {
      "text/plain": [
       "/databricks/spark/python/pyspark/sql/context.py:117: FutureWarning: Deprecated in 3.0.0. Use SparkSession.builder.getOrCreate() instead.\n",
       "  warnings.warn(\n"
      ]
     },
     "metadata": {
      "application/vnd.databricks.v1+output": {
       "addedWidgets": {},
       "arguments": {},
       "data": "/databricks/spark/python/pyspark/sql/context.py:117: FutureWarning: Deprecated in 3.0.0. Use SparkSession.builder.getOrCreate() instead.\n  warnings.warn(\n",
       "datasetInfos": [],
       "metadata": {},
       "removedWidgets": [],
       "type": "ansi"
      }
     },
     "output_type": "display_data"
    }
   ],
   "source": [
    "from pyspark.sql import SQLContext\n",
    "sqlContext = SQLContext(sc)"
   ]
  },
  {
   "cell_type": "code",
   "execution_count": 0,
   "metadata": {
    "application/vnd.databricks.v1+cell": {
     "cellMetadata": {},
     "inputWidgets": {},
     "nuid": "6634c9bf-5fbb-4796-a463-5476f780803e",
     "showTitle": false,
     "title": ""
    }
   },
   "outputs": [
    {
     "data": {
      "text/plain": [
       "/databricks/spark/python/pyspark/sql/dataframe.py:234: FutureWarning: Deprecated in 2.0, use createOrReplaceTempView instead.\n",
       "  warnings.warn(\"Deprecated in 2.0, use createOrReplaceTempView instead.\", FutureWarning)\n",
       "Out[23]: DataFrame[Product: string, Sub_Product: string, Issue: string, Sub_Issue: string, Company: string, State: string, Cnsmr_Consent: string, Submit_Via: string, Comp_Resp_Cnsmr: string, Timely_Resp: string, Cnsmr_Disp: string, ComplaintID: string, transit_time: int]"
      ]
     },
     "metadata": {
      "application/vnd.databricks.v1+output": {
       "addedWidgets": {},
       "arguments": {},
       "data": "/databricks/spark/python/pyspark/sql/dataframe.py:234: FutureWarning: Deprecated in 2.0, use createOrReplaceTempView instead.\n  warnings.warn(\"Deprecated in 2.0, use createOrReplaceTempView instead.\", FutureWarning)\nOut[23]: DataFrame[Product: string, Sub_Product: string, Issue: string, Sub_Issue: string, Company: string, State: string, Cnsmr_Consent: string, Submit_Via: string, Comp_Resp_Cnsmr: string, Timely_Resp: string, Cnsmr_Disp: string, ComplaintID: string, transit_time: int]",
       "datasetInfos": [],
       "metadata": {},
       "removedWidgets": [],
       "type": "ansi"
      }
     },
     "output_type": "display_data"
    }
   ],
   "source": [
    "#To keep the table, readable to sqlQuery.\n",
    "from pyspark.sql.functions import udf\n",
    "Complaint_df.registerTempTable(\"Complaint_df\")\n",
    "Complaint_df.cache()"
   ]
  },
  {
   "cell_type": "code",
   "execution_count": 0,
   "metadata": {
    "application/vnd.databricks.v1+cell": {
     "cellMetadata": {},
     "inputWidgets": {},
     "nuid": "f5d044b5-60b7-4609-964a-2a2ee838e404",
     "showTitle": false,
     "title": ""
    }
   },
   "outputs": [
    {
     "data": {
      "image/png": "[encoded data removed]"
     },
     "metadata": {
      "application/vnd.databricks.v1+output": {
       "addedWidgets": {},
       "arguments": {},
       "data": "data:image/png;base64,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\n",
       "datasetInfos": [],
       "metadata": {},
       "removedWidgets": [],
       "type": "image"
      }
     },
     "output_type": "display_data"
    }
   ],
   "source": [
    "## What are the top 10 companies by the volume of complaints. Indicate the percentage of complaints for \n",
    "# each company against the total number of complaints.\n",
    "\n",
    "Total = Complt_df.count()\n",
    "\n",
    "TopTenComp = sqlContext.sql(\"SELECT Company, count(1) AS TotComplaints FROM Complaint_df          \\\n",
    "                            GROUP BY Company                                                      \\\n",
    "                            ORDER BY count(1) DESC LIMIT 10\")\n",
    "\n",
    "plots = TopTenComp.toPandas()\n",
    "\n",
    "ax=plots.plot(kind='barh',\n",
    "              x='Company',\n",
    "              y='TotComplaints',\n",
    "              legend=None)\n",
    "\n",
    "plt.title('TOP TEN COMPANIES BY VOLUME OF COMPLAINTS', fontsize=10)\n",
    "plt.ylabel(' ', fontsize = 16)\n",
    "plt.xlabel('# of Complaints', fontsize = 16)\n",
    "\n",
    "for i in ax.patches:\n",
    "    ax.text(i.get_width()+.3, i.get_y()+.38, \\\n",
    "           str(round((i.get_width()/Total)*100, 2))+'%', fontsize=14, color = 'Coral')\n",
    "ax.invert_yaxis()"
   ]
  },
  {
   "cell_type": "code",
   "execution_count": 0,
   "metadata": {
    "application/vnd.databricks.v1+cell": {
     "cellMetadata": {},
     "inputWidgets": {},
     "nuid": "45b3b4ab-3882-4ea7-9b82-1d53b7a64b0c",
     "showTitle": false,
     "title": ""
    }
   },
   "outputs": [
    {
     "data": {
      "text/plain": [
       "+--------------------+------+\n",
       "|     Comp_Resp_Cnsmr| count|\n",
       "+--------------------+------+\n",
       "|Closed with expla...|531238|\n",
       "|Closed with non-m...| 88787|\n",
       "|Closed with monet...| 46395|\n",
       "|Closed without re...| 17868|\n",
       "|              Closed| 16287|\n",
       "|  Closed with relief|  5304|\n",
       "|   Untimely response|  2658|\n",
       "|          09/09/2017|    49|\n",
       "|          09/08/2017|    34|\n",
       "|          02/21/2019|    24|\n",
       "+--------------------+------+\n",
       "only showing top 10 rows\n",
       "\n",
       "None\n"
      ]
     },
     "metadata": {
      "application/vnd.databricks.v1+output": {
       "addedWidgets": {},
       "arguments": {},
       "data": "+--------------------+------+\n|     Comp_Resp_Cnsmr| count|\n+--------------------+------+\n|Closed with expla...|531238|\n|Closed with non-m...| 88787|\n|Closed with monet...| 46395|\n|Closed without re...| 17868|\n|              Closed| 16287|\n|  Closed with relief|  5304|\n|   Untimely response|  2658|\n|          09/09/2017|    49|\n|          09/08/2017|    34|\n|          02/21/2019|    24|\n+--------------------+------+\nonly showing top 10 rows\n\nNone\n",
       "datasetInfos": [],
       "metadata": {},
       "removedWidgets": [],
       "type": "ansi"
      }
     },
     "output_type": "display_data"
    }
   ],
   "source": [
    "print(Complaint_df.groupBy('Comp_Resp_Cnsmr').count().sort('count', ascending=False).show(10))"
   ]
  },
  {
   "cell_type": "code",
   "execution_count": 0,
   "metadata": {
    "application/vnd.databricks.v1+cell": {
     "cellMetadata": {},
     "inputWidgets": {},
     "nuid": "9757edad-5ab2-4c3e-a6ef-8ca39e6ad804",
     "showTitle": false,
     "title": ""
    }
   },
   "outputs": [],
   "source": [
    "#Consolidate the columns which need to OneHotEncode top-ten unque values.\n",
    "truncate_columns=['Product', 'Sub_Product', 'Issue', 'Sub_Issue', 'Comp_Resp_Cnsmr']\n",
    "numerical_cols = []"
   ]
  },
  {
   "cell_type": "code",
   "execution_count": 0,
   "metadata": {
    "application/vnd.databricks.v1+cell": {
     "cellMetadata": {},
     "inputWidgets": {},
     "nuid": "6f08ebcc-c0ea-4227-b45c-10cac28fd83c",
     "showTitle": false,
     "title": ""
    }
   },
   "outputs": [
    {
     "data": {
      "image/png": "[encoded data removed]"
     },
     "metadata": {
      "application/vnd.databricks.v1+output": {
       "addedWidgets": {},
       "arguments": {},
       "data": "data:image/png;base64,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\n",
       "datasetInfos": [],
       "metadata": {},
       "removedWidgets": [],
       "type": "image"
      }
     },
     "output_type": "display_data"
    },
    {
     "data": {
      "image/png": "[encoded data removed]"
     },
     "metadata": {
      "application/vnd.databricks.v1+output": {
       "addedWidgets": {},
       "arguments": {},
       "data": "data:image/png;base64,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\n",
       "datasetInfos": [],
       "metadata": {},
       "removedWidgets": [],
       "type": "image"
      }
     },
     "output_type": "display_data"
    },
    {
     "data": {
      "image/png": "[encoded data removed]"
     },
     "metadata": {
      "application/vnd.databricks.v1+output": {
       "addedWidgets": {},
       "arguments": {},
       "data": "data:image/png;base64,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\n",
       "datasetInfos": [],
       "metadata": {},
       "removedWidgets": [],
       "type": "image"
      }
     },
     "output_type": "display_data"
    },
    {
     "data": {
      "image/png": "[encoded data removed]"
     },
     "metadata": {
      "application/vnd.databricks.v1+output": {
       "addedWidgets": {},
       "arguments": {},
       "data": "data:image/png;base64,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\n",
       "datasetInfos": [],
       "metadata": {},
       "removedWidgets": [],
       "type": "image"
      }
     },
     "output_type": "display_data"
    },
    {
     "data": {
      "image/png": "[encoded data removed]"
     },
     "metadata": {
      "application/vnd.databricks.v1+output": {
       "addedWidgets": {},
       "arguments": {},
       "data": "data:image/png;base64,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\n",
       "datasetInfos": [],
       "metadata": {},
       "removedWidgets": [],
       "type": "image"
      }
     },
     "output_type": "display_data"
    }
   ],
   "source": [
    "Total = Complt_df.count()\n",
    "\n",
    "for coln in truncate_columns:\n",
    "    Total = Complt_df.count()\n",
    "    TopTen = sqlContext.sql(\"SELECT \"+coln+\", count(1) AS TotCounts FROM Complaint_df          \\\n",
    "                            GROUP BY \"+coln+\"                                                      \\\n",
    "                            ORDER BY count(1) DESC LIMIT 10\")\n",
    "    \n",
    "    plots = TopTen.toPandas()\n",
    "\n",
    "    ax=plots.plot(kind='barh',\n",
    "              x=coln,\n",
    "              y='TotCounts',\n",
    "              legend=None)\n",
    "\n",
    "    plt.title('TOP TEN '+coln+' BY VOLUME OF Total', fontsize=10)\n",
    "    plt.ylabel(' ', fontsize = 16)\n",
    "    #plt.xlabel('# of ', fontsize = 16)\n",
    "\n",
    "    for i in ax.patches:\n",
    "        ax.text(i.get_width()+.3, i.get_y()+.38, \\\n",
    "           str(round((i.get_width()/Total)*100, 2))+'%', fontsize=14, color = 'Coral')\n",
    "    ax.invert_yaxis()"
   ]
  },
  {
   "cell_type": "code",
   "execution_count": 0,
   "metadata": {
    "application/vnd.databricks.v1+cell": {
     "cellMetadata": {},
     "inputWidgets": {},
     "nuid": "a9173b3d-403a-4d17-b887-7b0e4b551cd4",
     "showTitle": false,
     "title": ""
    }
   },
   "outputs": [],
   "source": [
    "# One Hot encoding\n",
    "for coln in truncate_columns:\n",
    "    TopTenComp = sqlContext.sql(\"SELECT \"+coln+\", count(1) AS TotComplaints FROM Complaint_df          \\\n",
    "                            GROUP BY \"+coln+\"                                                      \\\n",
    "                            ORDER BY count(1) DESC LIMIT 10\")\n",
    "    \n",
    "    for i,k in enumerate(TopTenComp.collect()):\n",
    "        numerical_cols.append(coln+\"_\"+str(i))\n",
    "        Complaint_df= Complaint_df.select('*').withColumn(coln+\"_\"+str(i), when(col(coln) == k[coln],1).otherwise(0))"
   ]
  },
  {
   "cell_type": "code",
   "execution_count": 0,
   "metadata": {
    "application/vnd.databricks.v1+cell": {
     "cellMetadata": {},
     "inputWidgets": {},
     "nuid": "e1233e40-ac0e-4182-9099-058aa54c26da",
     "showTitle": false,
     "title": ""
    }
   },
   "outputs": [],
   "source": [
    "#OneHotEncode \"Company\", top-15 unique values as it is eqally distributed.\n",
    "TopTen_Company = sqlContext.sql(\"SELECT Company, count(1) AS TotState FROM Complaint_df          \\\n",
    "                            GROUP BY Company                                                      \\\n",
    "                            ORDER BY count(1) DESC LIMIT 15\")\n",
    "\n",
    "for i,k in enumerate(TopTen_Company.collect()):\n",
    "    numerical_cols.append(\"Company\"+str(i))\n",
    "    Complaint_df = Complaint_df.withColumn(\"Company\"+str(i), when(col('Company') == k.Company,1).otherwise(0))"
   ]
  },
  {
   "cell_type": "code",
   "execution_count": 0,
   "metadata": {
    "application/vnd.databricks.v1+cell": {
     "cellMetadata": {},
     "inputWidgets": {},
     "nuid": "a16f4a60-30aa-495b-af11-7db36c4849e5",
     "showTitle": false,
     "title": ""
    }
   },
   "outputs": [
    {
     "data": {
      "text/plain": [
       "root\n",
       " |-- Product: string (nullable = true)\n",
       " |-- Sub_Product: string (nullable = true)\n",
       " |-- Issue: string (nullable = true)\n",
       " |-- Sub_Issue: string (nullable = true)\n",
       " |-- Company: string (nullable = true)\n",
       " |-- State: string (nullable = true)\n",
       " |-- Cnsmr_Consent: string (nullable = true)\n",
       " |-- Submit_Via: string (nullable = true)\n",
       " |-- Comp_Resp_Cnsmr: string (nullable = true)\n",
       " |-- Timely_Resp: string (nullable = true)\n",
       " |-- Cnsmr_Disp: string (nullable = true)\n",
       " |-- ComplaintID: string (nullable = true)\n",
       " |-- transit_time: integer (nullable = true)\n",
       " |-- Product_0: integer (nullable = false)\n",
       " |-- Product_1: integer (nullable = false)\n",
       " |-- Product_2: integer (nullable = false)\n",
       " |-- Product_3: integer (nullable = false)\n",
       " |-- Product_4: integer (nullable = false)\n",
       " |-- Product_5: integer (nullable = false)\n",
       " |-- Product_6: integer (nullable = false)\n",
       " |-- Product_7: integer (nullable = false)\n",
       " |-- Product_8: integer (nullable = false)\n",
       " |-- Product_9: integer (nullable = false)\n",
       " |-- Sub_Product_0: integer (nullable = false)\n",
       " |-- Sub_Product_1: integer (nullable = false)\n",
       " |-- Sub_Product_2: integer (nullable = false)\n",
       " |-- Sub_Product_3: integer (nullable = false)\n",
       " |-- Sub_Product_4: integer (nullable = false)\n",
       " |-- Sub_Product_5: integer (nullable = false)\n",
       " |-- Sub_Product_6: integer (nullable = false)\n",
       " |-- Sub_Product_7: integer (nullable = false)\n",
       " |-- Sub_Product_8: integer (nullable = false)\n",
       " |-- Sub_Product_9: integer (nullable = false)\n",
       " |-- Issue_0: integer (nullable = false)\n",
       " |-- Issue_1: integer (nullable = false)\n",
       " |-- Issue_2: integer (nullable = false)\n",
       " |-- Issue_3: integer (nullable = false)\n",
       " |-- Issue_4: integer (nullable = false)\n",
       " |-- Issue_5: integer (nullable = false)\n",
       " |-- Issue_6: integer (nullable = false)\n",
       " |-- Issue_7: integer (nullable = false)\n",
       " |-- Issue_8: integer (nullable = false)\n",
       " |-- Issue_9: integer (nullable = false)\n",
       " |-- Sub_Issue_0: integer (nullable = false)\n",
       " |-- Sub_Issue_1: integer (nullable = false)\n",
       " |-- Sub_Issue_2: integer (nullable = false)\n",
       " |-- Sub_Issue_3: integer (nullable = false)\n",
       " |-- Sub_Issue_4: integer (nullable = false)\n",
       " |-- Sub_Issue_5: integer (nullable = false)\n",
       " |-- Sub_Issue_6: integer (nullable = false)\n",
       " |-- Sub_Issue_7: integer (nullable = false)\n",
       " |-- Sub_Issue_8: integer (nullable = false)\n",
       " |-- Sub_Issue_9: integer (nullable = false)\n",
       " |-- Comp_Resp_Cnsmr_0: integer (nullable = false)\n",
       " |-- Comp_Resp_Cnsmr_1: integer (nullable = false)\n",
       " |-- Comp_Resp_Cnsmr_2: integer (nullable = false)\n",
       " |-- Comp_Resp_Cnsmr_3: integer (nullable = false)\n",
       " |-- Comp_Resp_Cnsmr_4: integer (nullable = false)\n",
       " |-- Comp_Resp_Cnsmr_5: integer (nullable = false)\n",
       " |-- Comp_Resp_Cnsmr_6: integer (nullable = false)\n",
       " |-- Comp_Resp_Cnsmr_7: integer (nullable = false)\n",
       " |-- Comp_Resp_Cnsmr_8: integer (nullable = false)\n",
       " |-- Comp_Resp_Cnsmr_9: integer (nullable = false)\n",
       " |-- Company0: integer (nullable = false)\n",
       " |-- Company1: integer (nullable = false)\n",
       " |-- Company2: integer (nullable = false)\n",
       " |-- Company3: integer (nullable = false)\n",
       " |-- Company4: integer (nullable = false)\n",
       " |-- Company5: integer (nullable = false)\n",
       " |-- Company6: integer (nullable = false)\n",
       " |-- Company7: integer (nullable = false)\n",
       " |-- Company8: integer (nullable = false)\n",
       " |-- Company9: integer (nullable = false)\n",
       " |-- Company10: integer (nullable = false)\n",
       " |-- Company11: integer (nullable = false)\n",
       " |-- Company12: integer (nullable = false)\n",
       " |-- Company13: integer (nullable = false)\n",
       " |-- Company14: integer (nullable = false)\n",
       "\n"
      ]
     },
     "metadata": {
      "application/vnd.databricks.v1+output": {
       "addedWidgets": {},
       "arguments": {},
       "data": "root\n |-- Product: string (nullable = true)\n |-- Sub_Product: string (nullable = true)\n |-- Issue: string (nullable = true)\n |-- Sub_Issue: string (nullable = true)\n |-- Company: string (nullable = true)\n |-- State: string (nullable = true)\n |-- Cnsmr_Consent: string (nullable = true)\n |-- Submit_Via: string (nullable = true)\n |-- Comp_Resp_Cnsmr: string (nullable = true)\n |-- Timely_Resp: string (nullable = true)\n |-- Cnsmr_Disp: string (nullable = true)\n |-- ComplaintID: string (nullable = true)\n |-- transit_time: integer (nullable = true)\n |-- Product_0: integer (nullable = false)\n |-- Product_1: integer (nullable = false)\n |-- Product_2: integer (nullable = false)\n |-- Product_3: integer (nullable = false)\n |-- Product_4: integer (nullable = false)\n |-- Product_5: integer (nullable = false)\n |-- Product_6: integer (nullable = false)\n |-- Product_7: integer (nullable = false)\n |-- Product_8: integer (nullable = false)\n |-- Product_9: integer (nullable = false)\n |-- Sub_Product_0: integer (nullable = false)\n |-- Sub_Product_1: integer (nullable = false)\n |-- Sub_Product_2: integer (nullable = false)\n |-- Sub_Product_3: integer (nullable = false)\n |-- Sub_Product_4: integer (nullable = false)\n |-- Sub_Product_5: integer (nullable = false)\n |-- Sub_Product_6: integer (nullable = false)\n |-- Sub_Product_7: integer (nullable = false)\n |-- Sub_Product_8: integer (nullable = false)\n |-- Sub_Product_9: integer (nullable = false)\n |-- Issue_0: integer (nullable = false)\n |-- Issue_1: integer (nullable = false)\n |-- Issue_2: integer (nullable = false)\n |-- Issue_3: integer (nullable = false)\n |-- Issue_4: integer (nullable = false)\n |-- Issue_5: integer (nullable = false)\n |-- Issue_6: integer (nullable = false)\n |-- Issue_7: integer (nullable = false)\n |-- Issue_8: integer (nullable = false)\n |-- Issue_9: integer (nullable = false)\n |-- Sub_Issue_0: integer (nullable = false)\n |-- Sub_Issue_1: integer (nullable = false)\n |-- Sub_Issue_2: integer (nullable = false)\n |-- Sub_Issue_3: integer (nullable = false)\n |-- Sub_Issue_4: integer (nullable = false)\n |-- Sub_Issue_5: integer (nullable = false)\n |-- Sub_Issue_6: integer (nullable = false)\n |-- Sub_Issue_7: integer (nullable = false)\n |-- Sub_Issue_8: integer (nullable = false)\n |-- Sub_Issue_9: integer (nullable = false)\n |-- Comp_Resp_Cnsmr_0: integer (nullable = false)\n |-- Comp_Resp_Cnsmr_1: integer (nullable = false)\n |-- Comp_Resp_Cnsmr_2: integer (nullable = false)\n |-- Comp_Resp_Cnsmr_3: integer (nullable = false)\n |-- Comp_Resp_Cnsmr_4: integer (nullable = false)\n |-- Comp_Resp_Cnsmr_5: integer (nullable = false)\n |-- Comp_Resp_Cnsmr_6: integer (nullable = false)\n |-- Comp_Resp_Cnsmr_7: integer (nullable = false)\n |-- Comp_Resp_Cnsmr_8: integer (nullable = false)\n |-- Comp_Resp_Cnsmr_9: integer (nullable = false)\n |-- Company0: integer (nullable = false)\n |-- Company1: integer (nullable = false)\n |-- Company2: integer (nullable = false)\n |-- Company3: integer (nullable = false)\n |-- Company4: integer (nullable = false)\n |-- Company5: integer (nullable = false)\n |-- Company6: integer (nullable = false)\n |-- Company7: integer (nullable = false)\n |-- Company8: integer (nullable = false)\n |-- Company9: integer (nullable = false)\n |-- Company10: integer (nullable = false)\n |-- Company11: integer (nullable = false)\n |-- Company12: integer (nullable = false)\n |-- Company13: integer (nullable = false)\n |-- Company14: integer (nullable = false)\n\n",
       "datasetInfos": [],
       "metadata": {},
       "removedWidgets": [],
       "type": "ansi"
      }
     },
     "output_type": "display_data"
    }
   ],
   "source": [
    "Complaint_df.printSchema()"
   ]
  },
  {
   "cell_type": "code",
   "execution_count": 0,
   "metadata": {
    "application/vnd.databricks.v1+cell": {
     "cellMetadata": {},
     "inputWidgets": {},
     "nuid": "16647c1a-e34f-4624-9366-8ef03ed17bc4",
     "showTitle": false,
     "title": ""
    }
   },
   "outputs": [
    {
     "data": {
      "text/plain": [
       "155922\n"
      ]
     },
     "metadata": {
      "application/vnd.databricks.v1+output": {
       "addedWidgets": {},
       "arguments": {},
       "data": "155922\n",
       "datasetInfos": [],
       "metadata": {},
       "removedWidgets": [],
       "type": "ansi"
      }
     },
     "output_type": "display_data"
    }
   ],
   "source": [
    "#As i wanted to train the model with pure values, removing all null values in the dataset.\n",
    "\n",
    "for coln in Complaint_df.columns:\n",
    "    Complaint_df = Complaint_df.where(col(coln).isNotNull())\n",
    "print(Complaint_df.count())"
   ]
  },
  {
   "cell_type": "markdown",
   "metadata": {},
   "source": [
    "# OneHotEncoding and pipeline"
   ]
  },
  {
   "cell_type": "code",
   "execution_count": 0,
   "metadata": {
    "application/vnd.databricks.v1+cell": {
     "cellMetadata": {},
     "inputWidgets": {},
     "nuid": "00eee123-06a3-456b-ae3e-b89c90ad73dc",
     "showTitle": false,
     "title": ""
    }
   },
   "outputs": [],
   "source": [
    "from pyspark.ml.feature import OneHotEncoder\n",
    "from pyspark.ml.feature import StringIndexer\n",
    "from pyspark.ml.feature import VectorAssembler\n",
    "from pyspark.ml import Pipeline\n",
    "\n",
    "categoricalColumns = [\"State\",\"Cnsmr_Consent\",\"Submit_Via\",\"Timely_Resp\"]\n",
    "\n",
    "numerical_cols.append(\"transit_time\")\n",
    "\n",
    "stages = []\n",
    "\n",
    "for categoricalCol in categoricalColumns:\n",
    "    stringIndexer = StringIndexer(inputCol = categoricalCol, outputCol = categoricalCol + 'Index')\n",
    "    encoder = OneHotEncoder(inputCols=[stringIndexer.getOutputCol()], outputCols=[categoricalCol + \"classVec\"])\n",
    "    stages += [stringIndexer, encoder]\n",
    "\n",
    "label_stringIdx = StringIndexer(inputCol = 'Cnsmr_Disp', outputCol = 'label')\n",
    "stages += [label_stringIdx]\n",
    "\n",
    "numericCols = numerical_cols\n",
    "\n",
    "assemblerInputs = [c + \"classVec\" for c in categoricalColumns] + numericCols\n",
    "assembler = VectorAssembler(inputCols=assemblerInputs, outputCol=\"features\")\n",
    "\n",
    "stages += [assembler]"
   ]
  },
  {
   "cell_type": "code",
   "execution_count": 0,
   "metadata": {
    "application/vnd.databricks.v1+cell": {
     "cellMetadata": {},
     "inputWidgets": {},
     "nuid": "164af2df-6211-47d6-9aee-1123e52de529",
     "showTitle": false,
     "title": ""
    }
   },
   "outputs": [],
   "source": [
    "#drop the fileds after oneHot encoded.\n",
    "Complaint_df=Complaint_df.drop('Product')\n",
    "Complaint_df=Complaint_df.drop('Sub_Product')\n",
    "Complaint_df=Complaint_df.drop('Issue')\n",
    "Complaint_df=Complaint_df.drop('Company')\n",
    "# Complaint_df=Complaint_df.drop('State')\n",
    "# Complaint_df=Complaint_df.drop('Cnsmr_Consent')\n",
    "# Complaint_df=Complaint_df.drop('Submit_Via')\n",
    "Complaint_df=Complaint_df.drop('Sub_Issue')\n",
    "Complaint_df=Complaint_df.drop('ComplaintID')\n",
    "Complaint_df=Complaint_df.drop('Comp_Resp_Cnsmr')\n",
    "# Complaint_df=Complaint_df.drop('Timely_Resp')"
   ]
  },
  {
   "cell_type": "code",
   "execution_count": 0,
   "metadata": {
    "application/vnd.databricks.v1+cell": {
     "cellMetadata": {},
     "inputWidgets": {},
     "nuid": "def5f9e9-00b0-4b63-a4dc-1c0e7e163562",
     "showTitle": false,
     "title": ""
    }
   },
   "outputs": [
    {
     "data": {
      "text/plain": [
       "root\n",
       " |-- State: string (nullable = true)\n",
       " |-- Cnsmr_Consent: string (nullable = true)\n",
       " |-- Submit_Via: string (nullable = true)\n",
       " |-- Timely_Resp: string (nullable = true)\n",
       " |-- Cnsmr_Disp: string (nullable = true)\n",
       " |-- transit_time: integer (nullable = true)\n",
       " |-- Product_0: integer (nullable = false)\n",
       " |-- Product_1: integer (nullable = false)\n",
       " |-- Product_2: integer (nullable = false)\n",
       " |-- Product_3: integer (nullable = false)\n",
       " |-- Product_4: integer (nullable = false)\n",
       " |-- Product_5: integer (nullable = false)\n",
       " |-- Product_6: integer (nullable = false)\n",
       " |-- Product_7: integer (nullable = false)\n",
       " |-- Product_8: integer (nullable = false)\n",
       " |-- Product_9: integer (nullable = false)\n",
       " |-- Sub_Product_0: integer (nullable = false)\n",
       " |-- Sub_Product_1: integer (nullable = false)\n",
       " |-- Sub_Product_2: integer (nullable = false)\n",
       " |-- Sub_Product_3: integer (nullable = false)\n",
       " |-- Sub_Product_4: integer (nullable = false)\n",
       " |-- Sub_Product_5: integer (nullable = false)\n",
       " |-- Sub_Product_6: integer (nullable = false)\n",
       " |-- Sub_Product_7: integer (nullable = false)\n",
       " |-- Sub_Product_8: integer (nullable = false)\n",
       " |-- Sub_Product_9: integer (nullable = false)\n",
       " |-- Issue_0: integer (nullable = false)\n",
       " |-- Issue_1: integer (nullable = false)\n",
       " |-- Issue_2: integer (nullable = false)\n",
       " |-- Issue_3: integer (nullable = false)\n",
       " |-- Issue_4: integer (nullable = false)\n",
       " |-- Issue_5: integer (nullable = false)\n",
       " |-- Issue_6: integer (nullable = false)\n",
       " |-- Issue_7: integer (nullable = false)\n",
       " |-- Issue_8: integer (nullable = false)\n",
       " |-- Issue_9: integer (nullable = false)\n",
       " |-- Sub_Issue_0: integer (nullable = false)\n",
       " |-- Sub_Issue_1: integer (nullable = false)\n",
       " |-- Sub_Issue_2: integer (nullable = false)\n",
       " |-- Sub_Issue_3: integer (nullable = false)\n",
       " |-- Sub_Issue_4: integer (nullable = false)\n",
       " |-- Sub_Issue_5: integer (nullable = false)\n",
       " |-- Sub_Issue_6: integer (nullable = false)\n",
       " |-- Sub_Issue_7: integer (nullable = false)\n",
       " |-- Sub_Issue_8: integer (nullable = false)\n",
       " |-- Sub_Issue_9: integer (nullable = false)\n",
       " |-- Comp_Resp_Cnsmr_0: integer (nullable = false)\n",
       " |-- Comp_Resp_Cnsmr_1: integer (nullable = false)\n",
       " |-- Comp_Resp_Cnsmr_2: integer (nullable = false)\n",
       " |-- Comp_Resp_Cnsmr_3: integer (nullable = false)\n",
       " |-- Comp_Resp_Cnsmr_4: integer (nullable = false)\n",
       " |-- Comp_Resp_Cnsmr_5: integer (nullable = false)\n",
       " |-- Comp_Resp_Cnsmr_6: integer (nullable = false)\n",
       " |-- Comp_Resp_Cnsmr_7: integer (nullable = false)\n",
       " |-- Comp_Resp_Cnsmr_8: integer (nullable = false)\n",
       " |-- Comp_Resp_Cnsmr_9: integer (nullable = false)\n",
       " |-- Company0: integer (nullable = false)\n",
       " |-- Company1: integer (nullable = false)\n",
       " |-- Company2: integer (nullable = false)\n",
       " |-- Company3: integer (nullable = false)\n",
       " |-- Company4: integer (nullable = false)\n",
       " |-- Company5: integer (nullable = false)\n",
       " |-- Company6: integer (nullable = false)\n",
       " |-- Company7: integer (nullable = false)\n",
       " |-- Company8: integer (nullable = false)\n",
       " |-- Company9: integer (nullable = false)\n",
       " |-- Company10: integer (nullable = false)\n",
       " |-- Company11: integer (nullable = false)\n",
       " |-- Company12: integer (nullable = false)\n",
       " |-- Company13: integer (nullable = false)\n",
       " |-- Company14: integer (nullable = false)\n",
       "\n",
       "None\n"
      ]
     },
     "metadata": {
      "application/vnd.databricks.v1+output": {
       "addedWidgets": {},
       "arguments": {},
       "data": "root\n |-- State: string (nullable = true)\n |-- Cnsmr_Consent: string (nullable = true)\n |-- Submit_Via: string (nullable = true)\n |-- Timely_Resp: string (nullable = true)\n |-- Cnsmr_Disp: string (nullable = true)\n |-- transit_time: integer (nullable = true)\n |-- Product_0: integer (nullable = false)\n |-- Product_1: integer (nullable = false)\n |-- Product_2: integer (nullable = false)\n |-- Product_3: integer (nullable = false)\n |-- Product_4: integer (nullable = false)\n |-- Product_5: integer (nullable = false)\n |-- Product_6: integer (nullable = false)\n |-- Product_7: integer (nullable = false)\n |-- Product_8: integer (nullable = false)\n |-- Product_9: integer (nullable = false)\n |-- Sub_Product_0: integer (nullable = false)\n |-- Sub_Product_1: integer (nullable = false)\n |-- Sub_Product_2: integer (nullable = false)\n |-- Sub_Product_3: integer (nullable = false)\n |-- Sub_Product_4: integer (nullable = false)\n |-- Sub_Product_5: integer (nullable = false)\n |-- Sub_Product_6: integer (nullable = false)\n |-- Sub_Product_7: integer (nullable = false)\n |-- Sub_Product_8: integer (nullable = false)\n |-- Sub_Product_9: integer (nullable = false)\n |-- Issue_0: integer (nullable = false)\n |-- Issue_1: integer (nullable = false)\n |-- Issue_2: integer (nullable = false)\n |-- Issue_3: integer (nullable = false)\n |-- Issue_4: integer (nullable = false)\n |-- Issue_5: integer (nullable = false)\n |-- Issue_6: integer (nullable = false)\n |-- Issue_7: integer (nullable = false)\n |-- Issue_8: integer (nullable = false)\n |-- Issue_9: integer (nullable = false)\n |-- Sub_Issue_0: integer (nullable = false)\n |-- Sub_Issue_1: integer (nullable = false)\n |-- Sub_Issue_2: integer (nullable = false)\n |-- Sub_Issue_3: integer (nullable = false)\n |-- Sub_Issue_4: integer (nullable = false)\n |-- Sub_Issue_5: integer (nullable = false)\n |-- Sub_Issue_6: integer (nullable = false)\n |-- Sub_Issue_7: integer (nullable = false)\n |-- Sub_Issue_8: integer (nullable = false)\n |-- Sub_Issue_9: integer (nullable = false)\n |-- Comp_Resp_Cnsmr_0: integer (nullable = false)\n |-- Comp_Resp_Cnsmr_1: integer (nullable = false)\n |-- Comp_Resp_Cnsmr_2: integer (nullable = false)\n |-- Comp_Resp_Cnsmr_3: integer (nullable = false)\n |-- Comp_Resp_Cnsmr_4: integer (nullable = false)\n |-- Comp_Resp_Cnsmr_5: integer (nullable = false)\n |-- Comp_Resp_Cnsmr_6: integer (nullable = false)\n |-- Comp_Resp_Cnsmr_7: integer (nullable = false)\n |-- Comp_Resp_Cnsmr_8: integer (nullable = false)\n |-- Comp_Resp_Cnsmr_9: integer (nullable = false)\n |-- Company0: integer (nullable = false)\n |-- Company1: integer (nullable = false)\n |-- Company2: integer (nullable = false)\n |-- Company3: integer (nullable = false)\n |-- Company4: integer (nullable = false)\n |-- Company5: integer (nullable = false)\n |-- Company6: integer (nullable = false)\n |-- Company7: integer (nullable = false)\n |-- Company8: integer (nullable = false)\n |-- Company9: integer (nullable = false)\n |-- Company10: integer (nullable = false)\n |-- Company11: integer (nullable = false)\n |-- Company12: integer (nullable = false)\n |-- Company13: integer (nullable = false)\n |-- Company14: integer (nullable = false)\n\nNone\n",
       "datasetInfos": [],
       "metadata": {},
       "removedWidgets": [],
       "type": "ansi"
      }
     },
     "output_type": "display_data"
    }
   ],
   "source": [
    "print(Complaint_df.printSchema())"
   ]
  },
  {
   "cell_type": "code",
   "execution_count": 0,
   "metadata": {
    "application/vnd.databricks.v1+cell": {
     "cellMetadata": {},
     "inputWidgets": {},
     "nuid": "dfda25d2-6143-4f67-be53-b5a793f84d3e",
     "showTitle": false,
     "title": ""
    }
   },
   "outputs": [],
   "source": [
    "pipeline = Pipeline(stages=stages)"
   ]
  },
  {
   "cell_type": "code",
   "execution_count": 0,
   "metadata": {
    "application/vnd.databricks.v1+cell": {
     "cellMetadata": {},
     "inputWidgets": {},
     "nuid": "c874459d-7167-4007-8c2f-9249df3f9614",
     "showTitle": false,
     "title": ""
    }
   },
   "outputs": [],
   "source": [
    "# COnver the target variable into numaric by replacing Yes by and No by 0.\n",
    "Complaint_df = Complaint_df.withColumn(\"Cnsmr_Disp\", when(col(\"Cnsmr_Disp\") == \"Yes\",1).otherwise(0))"
   ]
  },
  {
   "cell_type": "code",
   "execution_count": 0,
   "metadata": {
    "application/vnd.databricks.v1+cell": {
     "cellMetadata": {},
     "inputWidgets": {},
     "nuid": "cda29e11-d085-49af-ac98-68a739a84144",
     "showTitle": false,
     "title": ""
    }
   },
   "outputs": [
    {
     "data": {
      "text/plain": [
       "+--------------------+----------+\n",
       "|            features|Cnsmr_Disp|\n",
       "+--------------------+----------+\n",
       "|(137,[2,62,65,70,...|         0|\n",
       "|(137,[11,62,65,70...|         0|\n",
       "|(137,[0,61,68,70,...|         0|\n",
       "|(137,[0,63,65,76,...|         0|\n",
       "|(137,[21,62,65,70...|         0|\n",
       "+--------------------+----------+\n",
       "only showing top 5 rows\n",
       "\n"
      ]
     },
     "metadata": {
      "application/vnd.databricks.v1+output": {
       "addedWidgets": {},
       "arguments": {},
       "data": "+--------------------+----------+\n|            features|Cnsmr_Disp|\n+--------------------+----------+\n|(137,[2,62,65,70,...|         0|\n|(137,[11,62,65,70...|         0|\n|(137,[0,61,68,70,...|         0|\n|(137,[0,63,65,76,...|         0|\n|(137,[21,62,65,70...|         0|\n+--------------------+----------+\nonly showing top 5 rows\n\n",
       "datasetInfos": [],
       "metadata": {},
       "removedWidgets": [],
       "type": "ansi"
      }
     },
     "output_type": "display_data"
    }
   ],
   "source": [
    "v_df = pipeline.fit(Complaint_df).transform(Complaint_df).select([\"features\", \"Cnsmr_Disp\"])\n",
    "v_df.show(5)"
   ]
  },
  {
   "cell_type": "markdown",
   "metadata": {},
   "source": [
    "# Train-Test split"
   ]
  },
  {
   "cell_type": "code",
   "execution_count": 0,
   "metadata": {
    "application/vnd.databricks.v1+cell": {
     "cellMetadata": {},
     "inputWidgets": {},
     "nuid": "93b25933-d3fa-4f60-885c-184306ce96de",
     "showTitle": false,
     "title": ""
    }
   },
   "outputs": [],
   "source": [
    "splits = v_df.randomSplit([0.7, 0.3])\n",
    "train_df = splits[0]\n",
    "test_df = splits[1]"
   ]
  },
  {
   "cell_type": "markdown",
   "metadata": {},
   "source": [
    "# Model Building"
   ]
  },
  {
   "cell_type": "code",
   "execution_count": 0,
   "metadata": {
    "application/vnd.databricks.v1+cell": {
     "cellMetadata": {},
     "inputWidgets": {},
     "nuid": "44f665a3-a655-494e-b2b7-1a140c76a6ae",
     "showTitle": false,
     "title": ""
    }
   },
   "outputs": [],
   "source": [
    "#import all classifiers and required packages.\n",
    "from pyspark.ml.classification import RandomForestClassifier\n",
    "from pyspark.ml.evaluation import BinaryClassificationEvaluator\n",
    "from pyspark.ml.classification import LogisticRegression\n",
    "from pyspark.ml.classification import GBTClassifier\n",
    "from pyspark.ml.tuning import ParamGridBuilder, CrossValidator"
   ]
  },
  {
   "cell_type": "markdown",
   "metadata": {},
   "source": [
    "# Model-1: LogisticRegression"
   ]
  },
  {
   "cell_type": "code",
   "execution_count": 0,
   "metadata": {
    "application/vnd.databricks.v1+cell": {
     "cellMetadata": {},
     "inputWidgets": {},
     "nuid": "091b73c5-93a0-4743-bcea-b5a5d9359832",
     "showTitle": false,
     "title": ""
    }
   },
   "outputs": [
    {
     "data": {
      "text/plain": [
       "+----------+----------+--------------------+\n",
       "|prediction|Cnsmr_Disp|            features|\n",
       "+----------+----------+--------------------+\n",
       "|       0.0|         0|(137,[0,61,66,70,...|\n",
       "|       0.0|         0|(137,[0,61,66,70,...|\n",
       "|       0.0|         0|(137,[0,61,66,70,...|\n",
       "|       0.0|         0|(137,[0,61,66,70,...|\n",
       "|       0.0|         0|(137,[0,61,66,70,...|\n",
       "+----------+----------+--------------------+\n",
       "only showing top 5 rows\n",
       "\n",
       "accuracy = 0.830949\n"
      ]
     },
     "metadata": {
      "application/vnd.databricks.v1+output": {
       "addedWidgets": {},
       "arguments": {},
       "data": "+----------+----------+--------------------+\n|prediction|Cnsmr_Disp|            features|\n+----------+----------+--------------------+\n|       0.0|         0|(137,[0,61,66,70,...|\n|       0.0|         0|(137,[0,61,66,70,...|\n|       0.0|         0|(137,[0,61,66,70,...|\n|       0.0|         0|(137,[0,61,66,70,...|\n|       0.0|         0|(137,[0,61,66,70,...|\n+----------+----------+--------------------+\nonly showing top 5 rows\n\naccuracy = 0.830949\n",
       "datasetInfos": [],
       "metadata": {},
       "removedWidgets": [],
       "type": "ansi"
      }
     },
     "output_type": "display_data"
    }
   ],
   "source": [
    "#Changed the parameters maxIter=100, regParam=0.8, elasticNetParam=0.2\n",
    "\n",
    "lr = LogisticRegression(featuresCol = 'features',labelCol = 'Cnsmr_Disp', maxIter=10, regParam=0.8, elasticNetParam=0.2)\n",
    "lr_model = lr.fit(train_df)\n",
    "\n",
    "lr_predictions = lr_model.transform(test_df)\n",
    "lr_predictions.select(\"prediction\",\"Cnsmr_Disp\",\"features\").show(5)\n",
    "test_result = lr_model.evaluate(test_df)\n",
    "print(\"accuracy = %g\" % test_result.accuracy)"
   ]
  },
  {
   "cell_type": "code",
   "execution_count": 0,
   "metadata": {
    "application/vnd.databricks.v1+cell": {
     "cellMetadata": {},
     "inputWidgets": {},
     "nuid": "69305958-0429-4522-9424-763f006cf1bf",
     "showTitle": false,
     "title": ""
    }
   },
   "outputs": [
    {
     "data": {
      "text/plain": [
       "Out[42]: 0.5"
      ]
     },
     "metadata": {
      "application/vnd.databricks.v1+output": {
       "addedWidgets": {},
       "arguments": {},
       "data": "Out[42]: 0.5",
       "datasetInfos": [],
       "metadata": {},
       "removedWidgets": [],
       "type": "ansi"
      }
     },
     "output_type": "display_data"
    }
   ],
   "source": [
    "evaluator = BinaryClassificationEvaluator(labelCol=\"Cnsmr_Disp\")\n",
    "evaluator.evaluate(lr_predictions)"
   ]
  },
  {
   "cell_type": "markdown",
   "metadata": {},
   "source": [
    "# Model-1: LogisticRegression- with 100 iterations.- Hyperparametrs modification"
   ]
  },
  {
   "cell_type": "code",
   "execution_count": 0,
   "metadata": {
    "application/vnd.databricks.v1+cell": {
     "cellMetadata": {},
     "inputWidgets": {},
     "nuid": "48be9649-9244-4a21-a966-0100474cf7c9",
     "showTitle": false,
     "title": ""
    }
   },
   "outputs": [
    {
     "data": {
      "text/plain": [
       "+----------+----------+--------------------+\n",
       "|prediction|Cnsmr_Disp|            features|\n",
       "+----------+----------+--------------------+\n",
       "|       0.0|         0|(137,[0,61,66,70,...|\n",
       "|       0.0|         0|(137,[0,61,66,70,...|\n",
       "|       0.0|         0|(137,[0,61,66,70,...|\n",
       "|       0.0|         0|(137,[0,61,66,70,...|\n",
       "|       0.0|         0|(137,[0,61,66,70,...|\n",
       "+----------+----------+--------------------+\n",
       "only showing top 5 rows\n",
       "\n",
       "accuracy = 0.830949\n"
      ]
     },
     "metadata": {
      "application/vnd.databricks.v1+output": {
       "addedWidgets": {},
       "arguments": {},
       "data": "+----------+----------+--------------------+\n|prediction|Cnsmr_Disp|            features|\n+----------+----------+--------------------+\n|       0.0|         0|(137,[0,61,66,70,...|\n|       0.0|         0|(137,[0,61,66,70,...|\n|       0.0|         0|(137,[0,61,66,70,...|\n|       0.0|         0|(137,[0,61,66,70,...|\n|       0.0|         0|(137,[0,61,66,70,...|\n+----------+----------+--------------------+\nonly showing top 5 rows\n\naccuracy = 0.830949\n",
       "datasetInfos": [],
       "metadata": {},
       "removedWidgets": [],
       "type": "ansi"
      }
     },
     "output_type": "display_data"
    }
   ],
   "source": [
    "#Changed the parameters maxIter=100, regParam=0.8, elasticNetParam=0.2\n",
    "\n",
    "lr = LogisticRegression(featuresCol = 'features',labelCol = 'Cnsmr_Disp', maxIter=100, regParam=0.6, elasticNetParam=0.9)\n",
    "lr_model = lr.fit(train_df)\n",
    "\n",
    "lr_predictions = lr_model.transform(test_df)\n",
    "lr_predictions.select(\"prediction\",\"Cnsmr_Disp\",\"features\").show(5)\n",
    "test_result = lr_model.evaluate(test_df)\n",
    "print(\"accuracy = %g\" % test_result.accuracy)"
   ]
  },
  {
   "cell_type": "code",
   "execution_count": 0,
   "metadata": {
    "application/vnd.databricks.v1+cell": {
     "cellMetadata": {},
     "inputWidgets": {},
     "nuid": "6f375cea-954e-4832-9659-9288167878d6",
     "showTitle": false,
     "title": ""
    }
   },
   "outputs": [
    {
     "data": {
      "text/plain": [
       "Out[44]: 0.5"
      ]
     },
     "metadata": {
      "application/vnd.databricks.v1+output": {
       "addedWidgets": {},
       "arguments": {},
       "data": "Out[44]: 0.5",
       "datasetInfos": [],
       "metadata": {},
       "removedWidgets": [],
       "type": "ansi"
      }
     },
     "output_type": "display_data"
    }
   ],
   "source": [
    "evaluator = BinaryClassificationEvaluator(labelCol=\"Cnsmr_Disp\")\n",
    "evaluator.evaluate(lr_predictions)"
   ]
  },
  {
   "cell_type": "markdown",
   "metadata": {},
   "source": [
    "# Model-2: RandomForestClassifier"
   ]
  },
  {
   "cell_type": "code",
   "execution_count": 0,
   "metadata": {
    "application/vnd.databricks.v1+cell": {
     "cellMetadata": {},
     "inputWidgets": {},
     "nuid": "77d575c6-186f-4d74-a965-4506a86e78bf",
     "showTitle": false,
     "title": ""
    }
   },
   "outputs": [],
   "source": [
    "# Perfomring RandomForest with numTrees =10\n",
    "rf = RandomForestClassifier(labelCol=\"Cnsmr_Disp\", featuresCol=\"features\", numTrees=10)\n",
    "\n",
    "rfmodel = rf.fit(train_df)\n",
    "\n",
    "# Make predictions.\n",
    "predictions = rfmodel.transform(test_df)"
   ]
  },
  {
   "cell_type": "code",
   "execution_count": 0,
   "metadata": {
    "application/vnd.databricks.v1+cell": {
     "cellMetadata": {},
     "inputWidgets": {},
     "nuid": "8105fb40-7366-4442-a992-bca2b8888c45",
     "showTitle": false,
     "title": ""
    }
   },
   "outputs": [
    {
     "data": {
      "text/plain": [
       "+----------+----------+--------------------+\n",
       "|Cnsmr_Disp|prediction|            features|\n",
       "+----------+----------+--------------------+\n",
       "|         0|       0.0|(137,[0,61,66,70,...|\n",
       "|         0|       0.0|(137,[0,61,66,70,...|\n",
       "|         0|       0.0|(137,[0,61,66,70,...|\n",
       "|         0|       0.0|(137,[0,61,66,70,...|\n",
       "|         0|       0.0|(137,[0,61,66,70,...|\n",
       "+----------+----------+--------------------+\n",
       "only showing top 5 rows\n",
       "\n"
      ]
     },
     "metadata": {
      "application/vnd.databricks.v1+output": {
       "addedWidgets": {},
       "arguments": {},
       "data": "+----------+----------+--------------------+\n|Cnsmr_Disp|prediction|            features|\n+----------+----------+--------------------+\n|         0|       0.0|(137,[0,61,66,70,...|\n|         0|       0.0|(137,[0,61,66,70,...|\n|         0|       0.0|(137,[0,61,66,70,...|\n|         0|       0.0|(137,[0,61,66,70,...|\n|         0|       0.0|(137,[0,61,66,70,...|\n+----------+----------+--------------------+\nonly showing top 5 rows\n\n",
       "datasetInfos": [],
       "metadata": {},
       "removedWidgets": [],
       "type": "ansi"
      }
     },
     "output_type": "display_data"
    }
   ],
   "source": [
    "# Select example rows to display.\n",
    "predictions.select(\"Cnsmr_Disp\", \"prediction\", \"features\").show(5)"
   ]
  },
  {
   "cell_type": "code",
   "execution_count": 0,
   "metadata": {
    "application/vnd.databricks.v1+cell": {
     "cellMetadata": {},
     "inputWidgets": {},
     "nuid": "530b3512-b158-44a1-bad8-d33d11ba0a6b",
     "showTitle": false,
     "title": ""
    }
   },
   "outputs": [
    {
     "data": {
      "text/plain": [
       "ROC score = 0.5\n",
       "Test Error = 0.5\n"
      ]
     },
     "metadata": {
      "application/vnd.databricks.v1+output": {
       "addedWidgets": {},
       "arguments": {},
       "data": "ROC score = 0.5\nTest Error = 0.5\n",
       "datasetInfos": [],
       "metadata": {},
       "removedWidgets": [],
       "type": "ansi"
      }
     },
     "output_type": "display_data"
    }
   ],
   "source": [
    "# Select (prediction, true label) and compute test error\n",
    "evaluator = BinaryClassificationEvaluator(\n",
    "    labelCol=\"Cnsmr_Disp\", rawPredictionCol=\"prediction\", metricName=\"areaUnderROC\")\n",
    "\n",
    "roc_score = evaluator.evaluate(predictions)\n",
    "print(\"ROC score = %g\" % (roc_score))\n",
    "print(\"Test Error = %g\" % (1.0 - roc_score))"
   ]
  },
  {
   "cell_type": "code",
   "execution_count": 0,
   "metadata": {
    "application/vnd.databricks.v1+cell": {
     "cellMetadata": {},
     "inputWidgets": {},
     "nuid": "ba341f85-9acf-4fb2-b507-b3f361496487",
     "showTitle": false,
     "title": ""
    }
   },
   "outputs": [
    {
     "data": {
      "text/plain": [
       "RandomForestClassificationModel: uid=RandomForestClassifier_d2f6ba25fa05, numTrees=10, numClasses=2, numFeatures=137\n"
      ]
     },
     "metadata": {
      "application/vnd.databricks.v1+output": {
       "addedWidgets": {},
       "arguments": {},
       "data": "RandomForestClassificationModel: uid=RandomForestClassifier_d2f6ba25fa05, numTrees=10, numClasses=2, numFeatures=137\n",
       "datasetInfos": [],
       "metadata": {},
       "removedWidgets": [],
       "type": "ansi"
      }
     },
     "output_type": "display_data"
    }
   ],
   "source": [
    "print(rfmodel)  # summary "
   ]
  },
  {
   "cell_type": "markdown",
   "metadata": {},
   "source": [
    "# Model-2: RandomForestClassifier- with 50 iterations.- Hyperparametrs modification"
   ]
  },
  {
   "cell_type": "code",
   "execution_count": 0,
   "metadata": {
    "application/vnd.databricks.v1+cell": {
     "cellMetadata": {},
     "inputWidgets": {},
     "nuid": "c30f5caa-5243-4213-8864-78130b01f4e6",
     "showTitle": false,
     "title": ""
    }
   },
   "outputs": [
    {
     "data": {
      "text/plain": [
       "+----------+----------+--------------------+\n",
       "|Cnsmr_Disp|prediction|            features|\n",
       "+----------+----------+--------------------+\n",
       "|         0|       0.0|(137,[0,61,66,70,...|\n",
       "|         0|       0.0|(137,[0,61,66,70,...|\n",
       "|         0|       0.0|(137,[0,61,66,70,...|\n",
       "|         0|       0.0|(137,[0,61,66,70,...|\n",
       "|         0|       0.0|(137,[0,61,66,70,...|\n",
       "+----------+----------+--------------------+\n",
       "only showing top 5 rows\n",
       "\n",
       "ROC score = 0.5\n",
       "Test Error = 0.5\n"
      ]
     },
     "metadata": {
      "application/vnd.databricks.v1+output": {
       "addedWidgets": {},
       "arguments": {},
       "data": "+----------+----------+--------------------+\n|Cnsmr_Disp|prediction|            features|\n+----------+----------+--------------------+\n|         0|       0.0|(137,[0,61,66,70,...|\n|         0|       0.0|(137,[0,61,66,70,...|\n|         0|       0.0|(137,[0,61,66,70,...|\n|         0|       0.0|(137,[0,61,66,70,...|\n|         0|       0.0|(137,[0,61,66,70,...|\n+----------+----------+--------------------+\nonly showing top 5 rows\n\nROC score = 0.5\nTest Error = 0.5\n",
       "datasetInfos": [],
       "metadata": {},
       "removedWidgets": [],
       "type": "ansi"
      }
     },
     "output_type": "display_data"
    }
   ],
   "source": [
    "# Perfomring RandomForest with numTrees =50\n",
    "rf = RandomForestClassifier(labelCol=\"Cnsmr_Disp\", featuresCol=\"features\", numTrees=50)\n",
    "\n",
    "# Train model.  \n",
    "rfmodel = rf.fit(train_df)\n",
    "\n",
    "# Make predictions.\n",
    "predictions = rfmodel.transform(test_df)\n",
    "\n",
    "predictions.select(\"Cnsmr_Disp\", \"prediction\", \"features\").show(5)\n",
    "\n",
    "evaluator = BinaryClassificationEvaluator(\n",
    "    labelCol=\"Cnsmr_Disp\", rawPredictionCol=\"prediction\", metricName=\"areaUnderROC\")\n",
    "\n",
    "roc_score = evaluator.evaluate(predictions)\n",
    "print(\"ROC score = %g\" % (roc_score))\n",
    "print(\"Test Error = %g\" % (1.0 - roc_score))"
   ]
  },
  {
   "cell_type": "markdown",
   "metadata": {},
   "source": [
    "# Model-3: GBT Classifier"
   ]
  },
  {
   "cell_type": "code",
   "execution_count": 0,
   "metadata": {
    "application/vnd.databricks.v1+cell": {
     "cellMetadata": {},
     "inputWidgets": {},
     "nuid": "b1a00a3b-5c1a-48fb-8fac-be1a6eaa3f84",
     "showTitle": false,
     "title": ""
    }
   },
   "outputs": [
    {
     "data": {
      "text/plain": [
       "Out[51]: 0.6298712665905637"
      ]
     },
     "metadata": {
      "application/vnd.databricks.v1+output": {
       "addedWidgets": {},
       "arguments": {},
       "data": "Out[51]: 0.6298712665905637",
       "datasetInfos": [],
       "metadata": {},
       "removedWidgets": [],
       "type": "ansi"
      }
     },
     "output_type": "display_data"
    }
   ],
   "source": [
    "# GBTClassifier with maxIter=10\n",
    "gbt = GBTClassifier(labelCol=\"Cnsmr_Disp\",maxIter=10, featuresCol='features')\n",
    "gbtModel = gbt.fit(train_df)\n",
    "pred = gbtModel.transform(test_df)\n",
    "\n",
    "evaluator = BinaryClassificationEvaluator(labelCol=\"Cnsmr_Disp\")\n",
    "evaluator.evaluate(pred)"
   ]
  },
  {
   "cell_type": "markdown",
   "metadata": {},
   "source": [
    "# Model-3: GBT Classifier- with 50 iterations.- Hyperparameters modification."
   ]
  },
  {
   "cell_type": "code",
   "execution_count": 0,
   "metadata": {
    "application/vnd.databricks.v1+cell": {
     "cellMetadata": {},
     "inputWidgets": {},
     "nuid": "2a25f582-14b2-45ee-9bb3-0fca2c7c0554",
     "showTitle": false,
     "title": ""
    }
   },
   "outputs": [
    {
     "data": {
      "text/plain": [
       "Out[53]: 0.6338413891873417"
      ]
     },
     "metadata": {
      "application/vnd.databricks.v1+output": {
       "addedWidgets": {},
       "arguments": {},
       "data": "Out[53]: 0.6338413891873417",
       "datasetInfos": [],
       "metadata": {},
       "removedWidgets": [],
       "type": "ansi"
      }
     },
     "output_type": "display_data"
    }
   ],
   "source": [
    "# GBTClassifier with maxIter=50\n",
    "gbt = GBTClassifier(labelCol=\"Cnsmr_Disp\",maxIter=50, featuresCol='features')\n",
    "gbtModel = gbt.fit(train_df)\n",
    "pred = gbtModel.transform(test_df)\n",
    "\n",
    "evaluator = BinaryClassificationEvaluator(labelCol=\"Cnsmr_Disp\")\n",
    "evaluator.evaluate(pred)"
   ]
  },
  {
   "cell_type": "markdown",
   "metadata": {},
   "source": [
    "# CrossValidation- Considering GBT Classifier"
   ]
  },
  {
   "cell_type": "code",
   "execution_count": 0,
   "metadata": {
    "application/vnd.databricks.v1+cell": {
     "cellMetadata": {},
     "inputWidgets": {},
     "nuid": "09b4ccde-439c-496d-abbc-571647c6e29b",
     "showTitle": false,
     "title": ""
    }
   },
   "outputs": [
    {
     "data": {
      "text/plain": [
       "Out[54]: 0.6293005140540089"
      ]
     },
     "metadata": {
      "application/vnd.databricks.v1+output": {
       "addedWidgets": {},
       "arguments": {},
       "data": "Out[54]: 0.6293005140540089",
       "datasetInfos": [],
       "metadata": {},
       "removedWidgets": [],
       "type": "ansi"
      }
     },
     "output_type": "display_data"
    }
   ],
   "source": [
    "#CrossValidation with different combinations of maxDepth, maxBins and maxIter\n",
    "gbt = GBTClassifier(labelCol=\"Cnsmr_Disp\",maxIter=10, featuresCol='features')\n",
    "\n",
    "paramGrid = (ParamGridBuilder()\n",
    "             .addGrid(gbt.maxDepth, [2,3,4])\n",
    "             .addGrid(gbt.maxBins, [20, 50])\n",
    "             .addGrid(gbt.maxIter, [10, 20])\n",
    "            ).build()\n",
    "\n",
    "cv = CrossValidator(estimator=gbt, estimatorParamMaps=paramGrid, evaluator=evaluator, numFolds=5)\n",
    "cvmodel = cv.fit(train_df)\n",
    "pred = cvmodel.transform(test_df)\n",
    "evaluator.evaluate(pred)"
   ]
  },
  {
   "cell_type": "markdown",
   "metadata": {},
   "source": [
    "# CrossValidation- Considering LogisticRegression"
   ]
  },
  {
   "cell_type": "code",
   "execution_count": 0,
   "metadata": {
    "application/vnd.databricks.v1+cell": {
     "cellMetadata": {},
     "inputWidgets": {},
     "nuid": "bd690e7c-2487-4aa3-bc75-7b7ff14955d2",
     "showTitle": false,
     "title": ""
    }
   },
   "outputs": [
    {
     "data": {
      "text/plain": [
       "Out[55]: 0.6286626104604971"
      ]
     },
     "metadata": {
      "application/vnd.databricks.v1+output": {
       "addedWidgets": {},
       "arguments": {},
       "data": "Out[55]: 0.6286626104604971",
       "datasetInfos": [],
       "metadata": {},
       "removedWidgets": [],
       "type": "ansi"
      }
     },
     "output_type": "display_data"
    }
   ],
   "source": [
    "#CrossValidation with different combinations of maxDepth, maxBins and maxIter\n",
    "lr = LogisticRegression(featuresCol = 'features',labelCol = 'Cnsmr_Disp', maxIter=10, regParam=0.8, elasticNetParam=0.2)\n",
    "\n",
    "paramGrid = ParamGridBuilder()\\\n",
    "    .addGrid(lr.regParam, [0.1, 0.01]) \\\n",
    "    .addGrid(lr.fitIntercept, [False, True])\\\n",
    "    .addGrid(lr.elasticNetParam, [0.0, 0.5, 1.0])\\\n",
    "    .build()\n",
    "\n",
    "cv = CrossValidator(estimator=lr, estimatorParamMaps=paramGrid, evaluator=evaluator, numFolds=5)\n",
    "cvmodel = cv.fit(train_df)\n",
    "pred = cvmodel.transform(test_df)\n",
    "evaluator.evaluate(pred)"
   ]
  },
  {
   "cell_type": "code",
   "execution_count": 0,
   "metadata": {
    "application/vnd.databricks.v1+cell": {
     "cellMetadata": {},
     "inputWidgets": {},
     "nuid": "b8e89e85-0e39-47d2-89f3-bc8fe78ae452",
     "showTitle": false,
     "title": ""
    }
   },
   "outputs": [
    {
     "data": {
      "text/plain": [
       "Out[56]: LogisticRegressionModel: uid=LogisticRegression_6b320b8758d5, numClasses=2, numFeatures=137"
      ]
     },
     "metadata": {
      "application/vnd.databricks.v1+output": {
       "addedWidgets": {},
       "arguments": {},
       "data": "Out[56]: LogisticRegressionModel: uid=LogisticRegression_6b320b8758d5, numClasses=2, numFeatures=137",
       "datasetInfos": [],
       "metadata": {},
       "removedWidgets": [],
       "type": "ansi"
      }
     },
     "output_type": "display_data"
    }
   ],
   "source": [
    "cvmodel.bestModel"
   ]
  },
  {
   "cell_type": "code",
   "execution_count": 0,
   "metadata": {
    "application/vnd.databricks.v1+cell": {
     "cellMetadata": {},
     "inputWidgets": {},
     "nuid": "0b5bc150-81d2-4921-9ff6-002eed26d7f0",
     "showTitle": false,
     "title": ""
    }
   },
   "outputs": [
    {
     "data": {
      "text/plain": [
       "Out[57]: \"estimator: estimator to be cross-validated (current: LogisticRegression_6b320b8758d5)\\nestimatorParamMaps: estimator param maps (current: [{Param(parent='LogisticRegression_6b320b8758d5', name='regParam', doc='regularization parameter (>= 0).'): 0.1, Param(parent='LogisticRegression_6b320b8758d5', name='fitIntercept', doc='whether to fit an intercept term.'): False, Param(parent='LogisticRegression_6b320b8758d5', name='elasticNetParam', doc='the ElasticNet mixing parameter, in range [0, 1]. For alpha = 0, the penalty is an L2 penalty. For alpha = 1, it is an L1 penalty.'): 0.0}, {Param(parent='LogisticRegression_6b320b8758d5', name='regParam', doc='regularization parameter (>= 0).'): 0.1, Param(parent='LogisticRegression_6b320b8758d5', name='fitIntercept', doc='whether to fit an intercept term.'): False, Param(parent='LogisticRegression_6b320b8758d5', name='elasticNetParam', doc='the ElasticNet mixing parameter, in range [0, 1]. For alpha = 0, the penalty is an L2 penalty. For alpha = 1, it is an L1 penalty.'): 0.5}, {Param(parent='LogisticRegression_6b320b8758d5', name='regParam', doc='regularization parameter (>= 0).'): 0.1, Param(parent='LogisticRegression_6b320b8758d5', name='fitIntercept', doc='whether to fit an intercept term.'): False, Param(parent='LogisticRegression_6b320b8758d5', name='elasticNetParam', doc='the ElasticNet mixing parameter, in range [0, 1]. For alpha = 0, the penalty is an L2 penalty. For alpha = 1, it is an L1 penalty.'): 1.0}, {Param(parent='LogisticRegression_6b320b8758d5', name='regParam', doc='regularization parameter (>= 0).'): 0.1, Param(parent='LogisticRegression_6b320b8758d5', name='fitIntercept', doc='whether to fit an intercept term.'): True, Param(parent='LogisticRegression_6b320b8758d5', name='elasticNetParam', doc='the ElasticNet mixing parameter, in range [0, 1]. For alpha = 0, the penalty is an L2 penalty. For alpha = 1, it is an L1 penalty.'): 0.0}, {Param(parent='LogisticRegression_6b320b8758d5', name='regParam', doc='regularization parameter (>= 0).'): 0.1, Param(parent='LogisticRegression_6b320b8758d5', name='fitIntercept', doc='whether to fit an intercept term.'): True, Param(parent='LogisticRegression_6b320b8758d5', name='elasticNetParam', doc='the ElasticNet mixing parameter, in range [0, 1]. For alpha = 0, the penalty is an L2 penalty. For alpha = 1, it is an L1 penalty.'): 0.5}, {Param(parent='LogisticRegression_6b320b8758d5', name='regParam', doc='regularization parameter (>= 0).'): 0.1, Param(parent='LogisticRegression_6b320b8758d5', name='fitIntercept', doc='whether to fit an intercept term.'): True, Param(parent='LogisticRegression_6b320b8758d5', name='elasticNetParam', doc='the ElasticNet mixing parameter, in range [0, 1]. For alpha = 0, the penalty is an L2 penalty. For alpha = 1, it is an L1 penalty.'): 1.0}, {Param(parent='LogisticRegression_6b320b8758d5', name='regParam', doc='regularization parameter (>= 0).'): 0.01, Param(parent='LogisticRegression_6b320b8758d5', name='fitIntercept', doc='whether to fit an intercept term.'): False, Param(parent='LogisticRegression_6b320b8758d5', name='elasticNetParam', doc='the ElasticNet mixing parameter, in range [0, 1]. For alpha = 0, the penalty is an L2 penalty. For alpha = 1, it is an L1 penalty.'): 0.0}, {Param(parent='LogisticRegression_6b320b8758d5', name='regParam', doc='regularization parameter (>= 0).'): 0.01, Param(parent='LogisticRegression_6b320b8758d5', name='fitIntercept', doc='whether to fit an intercept term.'): False, Param(parent='LogisticRegression_6b320b8758d5', name='elasticNetParam', doc='the ElasticNet mixing parameter, in range [0, 1]. For alpha = 0, the penalty is an L2 penalty. For alpha = 1, it is an L1 penalty.'): 0.5}, {Param(parent='LogisticRegression_6b320b8758d5', name='regParam', doc='regularization parameter (>= 0).'): 0.01, Param(parent='LogisticRegression_6b320b8758d5', name='fitIntercept', doc='whether to fit an intercept term.'): False, Param(parent='LogisticRegression_6b320b8758d5', name='elasticNetParam', doc='the ElasticNet mixing parameter, in range [0, 1]. For alpha = 0, the penalty is an L2 penalty. For alpha = 1, it is an L1 penalty.'): 1.0}, {Param(parent='LogisticRegression_6b320b8758d5', name='regParam', doc='regularization parameter (>= 0).'): 0.01, Param(parent='LogisticRegression_6b320b8758d5', name='fitIntercept', doc='whether to fit an intercept term.'): True, Param(parent='LogisticRegression_6b320b8758d5', name='elasticNetParam', doc='the ElasticNet mixing parameter, in range [0, 1]. For alpha = 0, the penalty is an L2 penalty. For alpha = 1, it is an L1 penalty.'): 0.0}, {Param(parent='LogisticRegression_6b320b8758d5', name='regParam', doc='regularization parameter (>= 0).'): 0.01, Param(parent='LogisticRegression_6b320b8758d5', name='fitIntercept', doc='whether to fit an intercept term.'): True, Param(parent='LogisticRegression_6b320b8758d5', name='elasticNetParam', doc='the ElasticNet mixing parameter, in range [0, 1]. For alpha = 0, the penalty is an L2 penalty. For alpha = 1, it is an L1 penalty.'): 0.5}, {Param(parent='LogisticRegression_6b320b8758d5', name='regParam', doc='regularization parameter (>= 0).'): 0.01, Param(parent='LogisticRegression_6b320b8758d5', name='fitIntercept', doc='whether to fit an intercept term.'): True, Param(parent='LogisticRegression_6b320b8758d5', name='elasticNetParam', doc='the ElasticNet mixing parameter, in range [0, 1]. For alpha = 0, the penalty is an L2 penalty. For alpha = 1, it is an L1 penalty.'): 1.0}])\\nevaluator: evaluator used to select hyper-parameters that maximize the validator metric (current: BinaryClassificationEvaluator_c3fc977290d2)\\nfoldCol: Param for the column name of user specified fold number. Once this is specified, :py:class:`CrossValidator` won't do random k-fold split. Note that this column should be integer type with range [0, numFolds) and Spark will throw exception on out-of-range fold numbers. (default: )\\nnumFolds: number of folds for cross validation (default: 3, current: 5)\\nseed: random seed. (default: 7809051150349531440)\""
      ]
     },
     "metadata": {
      "application/vnd.databricks.v1+output": {
       "addedWidgets": {},
       "arguments": {},
       "data": "Out[57]: \"estimator: estimator to be cross-validated (current: LogisticRegression_6b320b8758d5)\\nestimatorParamMaps: estimator param maps (current: [{Param(parent='LogisticRegression_6b320b8758d5', name='regParam', doc='regularization parameter (>= 0).'): 0.1, Param(parent='LogisticRegression_6b320b8758d5', name='fitIntercept', doc='whether to fit an intercept term.'): False, Param(parent='LogisticRegression_6b320b8758d5', name='elasticNetParam', doc='the ElasticNet mixing parameter, in range [0, 1]. For alpha = 0, the penalty is an L2 penalty. For alpha = 1, it is an L1 penalty.'): 0.0}, {Param(parent='LogisticRegression_6b320b8758d5', name='regParam', doc='regularization parameter (>= 0).'): 0.1, Param(parent='LogisticRegression_6b320b8758d5', name='fitIntercept', doc='whether to fit an intercept term.'): False, Param(parent='LogisticRegression_6b320b8758d5', name='elasticNetParam', doc='the ElasticNet mixing parameter, in range [0, 1]. For alpha = 0, the penalty is an L2 penalty. For alpha = 1, it is an L1 penalty.'): 0.5}, {Param(parent='LogisticRegression_6b320b8758d5', name='regParam', doc='regularization parameter (>= 0).'): 0.1, Param(parent='LogisticRegression_6b320b8758d5', name='fitIntercept', doc='whether to fit an intercept term.'): False, Param(parent='LogisticRegression_6b320b8758d5', name='elasticNetParam', doc='the ElasticNet mixing parameter, in range [0, 1]. For alpha = 0, the penalty is an L2 penalty. For alpha = 1, it is an L1 penalty.'): 1.0}, {Param(parent='LogisticRegression_6b320b8758d5', name='regParam', doc='regularization parameter (>= 0).'): 0.1, Param(parent='LogisticRegression_6b320b8758d5', name='fitIntercept', doc='whether to fit an intercept term.'): True, Param(parent='LogisticRegression_6b320b8758d5', name='elasticNetParam', doc='the ElasticNet mixing parameter, in range [0, 1]. For alpha = 0, the penalty is an L2 penalty. For alpha = 1, it is an L1 penalty.'): 0.0}, {Param(parent='LogisticRegression_6b320b8758d5', name='regParam', doc='regularization parameter (>= 0).'): 0.1, Param(parent='LogisticRegression_6b320b8758d5', name='fitIntercept', doc='whether to fit an intercept term.'): True, Param(parent='LogisticRegression_6b320b8758d5', name='elasticNetParam', doc='the ElasticNet mixing parameter, in range [0, 1]. For alpha = 0, the penalty is an L2 penalty. For alpha = 1, it is an L1 penalty.'): 0.5}, {Param(parent='LogisticRegression_6b320b8758d5', name='regParam', doc='regularization parameter (>= 0).'): 0.1, Param(parent='LogisticRegression_6b320b8758d5', name='fitIntercept', doc='whether to fit an intercept term.'): True, Param(parent='LogisticRegression_6b320b8758d5', name='elasticNetParam', doc='the ElasticNet mixing parameter, in range [0, 1]. For alpha = 0, the penalty is an L2 penalty. For alpha = 1, it is an L1 penalty.'): 1.0}, {Param(parent='LogisticRegression_6b320b8758d5', name='regParam', doc='regularization parameter (>= 0).'): 0.01, Param(parent='LogisticRegression_6b320b8758d5', name='fitIntercept', doc='whether to fit an intercept term.'): False, Param(parent='LogisticRegression_6b320b8758d5', name='elasticNetParam', doc='the ElasticNet mixing parameter, in range [0, 1]. For alpha = 0, the penalty is an L2 penalty. For alpha = 1, it is an L1 penalty.'): 0.0}, {Param(parent='LogisticRegression_6b320b8758d5', name='regParam', doc='regularization parameter (>= 0).'): 0.01, Param(parent='LogisticRegression_6b320b8758d5', name='fitIntercept', doc='whether to fit an intercept term.'): False, Param(parent='LogisticRegression_6b320b8758d5', name='elasticNetParam', doc='the ElasticNet mixing parameter, in range [0, 1]. For alpha = 0, the penalty is an L2 penalty. For alpha = 1, it is an L1 penalty.'): 0.5}, {Param(parent='LogisticRegression_6b320b8758d5', name='regParam', doc='regularization parameter (>= 0).'): 0.01, Param(parent='LogisticRegression_6b320b8758d5', name='fitIntercept', doc='whether to fit an intercept term.'): False, Param(parent='LogisticRegression_6b320b8758d5', name='elasticNetParam', doc='the ElasticNet mixing parameter, in range [0, 1]. For alpha = 0, the penalty is an L2 penalty. For alpha = 1, it is an L1 penalty.'): 1.0}, {Param(parent='LogisticRegression_6b320b8758d5', name='regParam', doc='regularization parameter (>= 0).'): 0.01, Param(parent='LogisticRegression_6b320b8758d5', name='fitIntercept', doc='whether to fit an intercept term.'): True, Param(parent='LogisticRegression_6b320b8758d5', name='elasticNetParam', doc='the ElasticNet mixing parameter, in range [0, 1]. For alpha = 0, the penalty is an L2 penalty. For alpha = 1, it is an L1 penalty.'): 0.0}, {Param(parent='LogisticRegression_6b320b8758d5', name='regParam', doc='regularization parameter (>= 0).'): 0.01, Param(parent='LogisticRegression_6b320b8758d5', name='fitIntercept', doc='whether to fit an intercept term.'): True, Param(parent='LogisticRegression_6b320b8758d5', name='elasticNetParam', doc='the ElasticNet mixing parameter, in range [0, 1]. For alpha = 0, the penalty is an L2 penalty. For alpha = 1, it is an L1 penalty.'): 0.5}, {Param(parent='LogisticRegression_6b320b8758d5', name='regParam', doc='regularization parameter (>= 0).'): 0.01, Param(parent='LogisticRegression_6b320b8758d5', name='fitIntercept', doc='whether to fit an intercept term.'): True, Param(parent='LogisticRegression_6b320b8758d5', name='elasticNetParam', doc='the ElasticNet mixing parameter, in range [0, 1]. For alpha = 0, the penalty is an L2 penalty. For alpha = 1, it is an L1 penalty.'): 1.0}])\\nevaluator: evaluator used to select hyper-parameters that maximize the validator metric (current: BinaryClassificationEvaluator_c3fc977290d2)\\nfoldCol: Param for the column name of user specified fold number. Once this is specified, :py:class:`CrossValidator` won't do random k-fold split. Note that this column should be integer type with range [0, numFolds) and Spark will throw exception on out-of-range fold numbers. (default: )\\nnumFolds: number of folds for cross validation (default: 3, current: 5)\\nseed: random seed. (default: 7809051150349531440)\"",
       "datasetInfos": [],
       "metadata": {},
       "removedWidgets": [],
       "type": "ansi"
      }
     },
     "output_type": "display_data"
    }
   ],
   "source": [
    "cvmodel.explainParams()"
   ]
  },
  {
   "cell_type": "markdown",
   "metadata": {},
   "source": [
    "# Conclusion:"
   ]
  },
  {
   "cell_type": "code",
   "execution_count": 0,
   "metadata": {
    "application/vnd.databricks.v1+cell": {
     "cellMetadata": {},
     "inputWidgets": {},
     "nuid": "169dae4c-f44c-494b-a691-ee992078eb19",
     "showTitle": false,
     "title": ""
    }
   },
   "outputs": [],
   "source": [
    "Consumer complaint database has so many string columns, after converting all columns into numeric by OneHotEncoding of top most repeated columns based on weightage including target variable formed feature data frame.\n",
    "Slitted the data frame into test/split with 0.7/0.3 basis.\n",
    "After performing the models LogisticRegression and RandomForestClassifier,GBTClassifier the results as follows:\n",
    "\n",
    "LogisticRegression(maxIter=100, regParam=0.8, elasticNetParam=0.2) - accuracy = 0.830495, ROC Score : 0.5\n",
    "LogisticRegression(maxIter=100, regParam=0.6, elasticNetParam=0.9) - accuracy = 0.830495, ROC Score : 0.5\n",
    "\n",
    "RandomForestClassifier(numTrees=10) - ROC Score : 0.5\n",
    "RandomForestClassifier(numTrees=50) - ROC Score : 0.5\n",
    "\n",
    "GBTClassifier(maxIter=10) - evaluation result : 0.629\n",
    "GBTClassifier(maxIter=50) - evaluation result : 0.633\n",
    "    \n",
    "With hyperparameter modification, there is no change in the accuracy in Logisticregression.\n",
    "With hyperparameter modification, there is no change in the ROC score in RandomForestClassifier.\n",
    "With hyperparameter modification, there is a small change in GBTClassifier.\n",
    "\n",
    "As per the above results, clearly it states that LogisticRegression is giving a better results with compared to RandomForestClassifier and GBTClassifier models.\n",
    "\n",
    "After performing CrossValidation with LogisticRegression with different parameters. It concludes that: uid=LogisticRegression_6b320b8758d5, numClasses=2, numFeatures=137 is the better hyperparameter model."
   ]
  }
 ],
 "metadata": {
  "application/vnd.databricks.v1+notebook": {
   "dashboards": [],
   "language": "python",
   "notebookMetadata": {
    "pythonIndentUnit": 4
   },
   "notebookName": "MOHAMMED DANISH BIG DATA PROJECT",
   "notebookOrigID": 563274840879988,
   "widgets": {}
  },
  "kernelspec": {
   "display_name": "Python 3 (ipykernel)",
   "language": "python",
   "name": "python3"
  },
  "language_info": {
   "codemirror_mode": {
    "name": "ipython",
    "version": 3
   },
   "file_extension": ".py",
   "mimetype": "text/x-python",
   "name": "python",
   "nbconvert_exporter": "python",
   "pygments_lexer": "ipython3",
   "version": "3.9.13"
  }
 },
 "nbformat": 4,
 "nbformat_minor": 1
}
